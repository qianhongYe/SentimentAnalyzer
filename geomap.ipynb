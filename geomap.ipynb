{
 "cells": [
  {
   "cell_type": "markdown",
   "metadata": {},
   "source": [
    "# load related library"
   ]
  },
  {
   "cell_type": "code",
   "execution_count": 1,
   "metadata": {},
   "outputs": [
    {
     "name": "stderr",
     "output_type": "stream",
     "text": [
      "/srv/conda/lib/python3.6/importlib/_bootstrap.py:219: RuntimeWarning: numpy.dtype size changed, may indicate binary incompatibility. Expected 96, got 88\n",
      "  return f(*args, **kwds)\n"
     ]
    }
   ],
   "source": [
    "%matplotlib inline\n",
    "# import matplotlib as mpl\n",
    "# import matplotlib.pyplot as plt\n",
    "\n",
    "from shapely.geometry import Point\n",
    "import pandas as pd\n",
    "import geopandas as gpd\n",
    "from geopandas import GeoSeries, GeoDataFrame\n",
    "\n",
    "import ipywidgets\n",
    "from ipywidgets import widgets \n",
    "from ipywidgets import *  \n",
    "from IPython.display import display,clear_output\n",
    "#https://github.com/jupyter-widgets/ipywidgets/issues/134 about ouput\n",
    "from ipywidgets import Layout\n",
    "import folium\n",
    "from datetime import datetime\n",
    "from datetime import date\n",
    "from dateutil import rrule\n",
    "\n",
    "from traitlets import directional_link\n",
    "\n",
    "\n",
    "# install rtree\n",
    "# https://github.com/kjordahl/SciPy-Tutorial-2015/issues/1\n",
    "# http://jspeis.com/installing-rtree-on-mac-os-x/\n",
    "\n",
    "#plt.style.use('ggplot')\n",
    "\n"
   ]
  },
  {
   "cell_type": "code",
   "execution_count": 2,
   "metadata": {},
   "outputs": [
    {
     "data": {
      "text/plain": [
       "('0.19.2', '0.3.0', '0.5.0')"
      ]
     },
     "execution_count": 2,
     "metadata": {},
     "output_type": "execute_result"
    }
   ],
   "source": [
    "# print the version of libraries being used\n",
    "pd.__version__, gpd.__version__, folium.__version__"
   ]
  },
  {
   "cell_type": "code",
   "execution_count": 2,
   "metadata": {},
   "outputs": [
    {
     "data": {
      "text/plain": [
       "('0.23.3', '0.3.0', '0.5.0')"
      ]
     },
     "execution_count": 2,
     "metadata": {},
     "output_type": "execute_result"
    }
   ],
   "source": [
    "# print the version of libraries being used\n",
    "pd.__version__, gpd.__version__, folium.__version__"
   ]
  },
  {
   "cell_type": "markdown",
   "metadata": {},
   "source": [
    "# side function"
   ]
  },
  {
   "cell_type": "code",
   "execution_count": 3,
   "metadata": {},
   "outputs": [],
   "source": [
    "def loadJson(filename):\n",
    "    import json\n",
    "    f = open(filename, \"r\", encoding = \"utf-8\")\n",
    "    output = json.load(f)\n",
    "    f.close()\n",
    "    return output\n",
    "def add_datetime_column(df,unit):\n",
    "    # unit: date,month,year\n",
    "    datetime_format = \"\"\n",
    "    if unit == \"date\":\n",
    "        datetime_format = \"%Y-%m-%d\"\n",
    "    elif unit == \"month\":\n",
    "        datetime_format = \"%Y-%m\"\n",
    "    elif unit == \"year\":\n",
    "        datetime_format = \"%Y\"\n",
    "    new_list = [datetime.strptime(one,datetime_format) for one in df[unit]]\n",
    "    if unit == \"date\":\n",
    "        df = df.assign(datetime_date=pd.Series(new_list).values)\n",
    "    elif unit == \"month\":\n",
    "        df = df.assign(datetime_month=pd.Series(new_list).values)\n",
    "    elif unit == \"year\":\n",
    "        df = df.assign(datetime_year=pd.Series(new_list).values)\n",
    "    return df"
   ]
  },
  {
   "cell_type": "markdown",
   "metadata": {},
   "source": [
    "# load dataset"
   ]
  },
  {
   "cell_type": "markdown",
   "metadata": {},
   "source": [
    "# load remote dataset (when running in mybinder)\n",
    "\n",
    "If you do it locally, check the commented one, replace all wiki package with pd.read_csv feeding the file path by yours."
   ]
  },
  {
   "cell_type": "code",
   "execution_count": 27,
   "metadata": {},
   "outputs": [
    {
     "name": "stdout",
     "output_type": "stream",
     "text": [
      "Downloading package metadata...\n",
      "Fragments already downloaded\n"
     ]
    }
   ],
   "source": [
    "# we use quilt to make all the datasets as package\n",
    "import quilt\n",
    "# install dataset\n",
    "quilt.install(\"qianhongye/WikiSentiment\")\n",
    "\n",
    "# import the dataset\n",
    "from quilt.data.qianhongye import WikiSentiment as wiki"
   ]
  },
  {
   "cell_type": "code",
   "execution_count": 28,
   "metadata": {},
   "outputs": [
    {
     "name": "stdout",
     "output_type": "stream",
     "text": [
      "/home/jovyan/.local/share/QuiltCli/quilt_packages\n",
      "qianhongye/WikiSenti           latest               76045c569e2397bc11a11e1b1ff20c40e2c7083ddbbf9eec0c31517ec658137c\n",
      "qianhongye/WikiSentiment       latest               76045c569e2397bc11a11e1b1ff20c40e2c7083ddbbf9eec0c31517ec658137c\n"
     ]
    }
   ],
   "source": [
    "# look up local quilt\n",
    "#quilt.ls()\n",
    "# remove exist one\n",
    "#quilt.rm(\"qianhongye/WikiSenti\")"
   ]
  },
  {
   "cell_type": "code",
   "execution_count": 18,
   "metadata": {},
   "outputs": [
    {
     "name": "stdout",
     "output_type": "stream",
     "text": [
      "Remove qianhongye/WikiSenti? (y/n) y\n",
      "Removed: 482fb2641014985005773e037dfc27d6c99cca4cb681c3ffd3c5b2bce1372505\n",
      "Removed: 56cb0a50cd987c8e12aa6fbfcf2c2d994eab92d2421d3d59fbfcda45f40d22ca\n",
      "Removed: e2200a542edadd9548dc2be61c257b0339b670cea799f6f44a3c6f692d71db59\n",
      "Removed: aa34976b978675a1feb9fc3549ce97b13d4cd2f1e7921513e7877f1ce9b8e43a\n",
      "Removed: b43459e23041c0405e1a62a9cb160727b2ff5e79d2c5d492c4f7dcdc74f0d317\n",
      "Removed: 56142380a6f7f93066ec40bdcf11a3625a7a376ae65f962895a7f0729ad95575\n",
      "Removed: bbd45b138ed47a082df867c4f6e9b9a7ad197b4c5b335b4bee37541f555dc04d\n",
      "Removed: ef5348c86b1158fa34b9fe3bf75a5de1c22cc7f0dd5bcb088585a3539df6c3a2\n",
      "Removed: c6d3e4a11f602531864d3323b9b590efafad326dc6de6e9038b367615f0b7a19\n",
      "Removed: 9d4312273685973ede5dfe29355ec5d811e7708fcbfe1d58a7f235582fd314ca\n",
      "Removed: e775c12ea8d2c3f95c65006797e94b953a843a7a1f7435609a6a91909f0adc95\n",
      "Removed: 75ed37d33045dfb4efa9e06dfee7cc283497965574d4e7d4d82ac1e945d2ec3b\n",
      "Removed: 96ef5acebadc30a25c37a8305626b5eb317b6669757475c194625eb0b306eee5\n",
      "Removed: 042083cf0f6d17d7422ab4a7eb7232b39a52762e4dab4e8988cc85ecc570086f\n",
      "Removed: 2db781d95bd423d64895c6f39f5578c560cb0db4f50bfa7d5c3b5ef654827f17\n"
     ]
    }
   ],
   "source": [
    "#quilt.rm(\"qianhongye/WikiSenti\")"
   ]
  },
  {
   "cell_type": "markdown",
   "metadata": {},
   "source": [
    "### get score and geo information"
   ]
  },
  {
   "cell_type": "code",
   "execution_count": 25,
   "metadata": {},
   "outputs": [],
   "source": [
    "# loading csv containing title, score*8, geometry, country, continent\n",
    "title_score_geo = {}\n",
    "title_score_geo[\"Articles\"] = wiki.article_score_with_geo._data()\n",
    "# #if you do it locally\n",
    "# title_score_geo[\"Articles\"] = pd.read_csv(\"score_file/title_score_geo_country_continent.csv\")\n",
    "\n",
    "title_score_geo[\"Talks\"] = wiki.talk_score_with_geo._data()\n",
    "# #if you do it locally\n",
    "# title_score_geo[\"Talks\"] = pd.read_csv(\"talk_score_file/title_score_geo_country_continent.csv\")"
   ]
  },
  {
   "cell_type": "markdown",
   "metadata": {},
   "source": [
    "### get date information and exclude BC date"
   ]
  },
  {
   "cell_type": "code",
   "execution_count": 30,
   "metadata": {},
   "outputs": [
    {
     "name": "stdout",
     "output_type": "stream",
     "text": [
      "             title        date\n",
      "0    Ricardo Prado  1965-01-03\n",
      "1  Gottlieb Göller  1935-05-31\n",
      "2     Henry Wiggin  1824-02-14\n"
     ]
    }
   ],
   "source": [
    "\n",
    "# load csv containing date for people and events\n",
    "# exclude BC\n",
    "# change dates to datetime type\n",
    "dates = {}\n",
    "temp_df = None\n",
    "# for people\n",
    "temp_df = wiki.people_birthdate._data()\n",
    "\n",
    "\n",
    "print (temp_df.head(3))\n",
    "#temp_df = pd.read_csv(\"person_birthdate_space.csv\")\n",
    "# exclude BC\n",
    "temp_df = temp_df[~temp_df['date'].str.startswith(\"-\")]\n",
    "# add datetime column\n",
    "temp_df = add_datetime_column(temp_df,'date')\n",
    "del temp_df['date']\n",
    "dates[\"People\"] = temp_df\n",
    "\n",
    "temp_df = None\n",
    "temp_df = wiki.events_occurrence_date._data()\n",
    "#temp_df = pd.read_csv(\"event_date_space.csv\")\n",
    "# exclude BC\n",
    "temp_df = temp_df[~temp_df['date'].str.startswith(\"-\")]\n",
    "temp_df = add_datetime_column(temp_df,'date')\n",
    "del temp_df['date']\n",
    "dates[\"Events\"] = temp_df\n"
   ]
  },
  {
   "cell_type": "code",
   "execution_count": null,
   "metadata": {},
   "outputs": [],
   "source": [
    "print (dates[\"People\"].head(3))"
   ]
  },
  {
   "cell_type": "markdown",
   "metadata": {},
   "source": [
    "### get people list and events list"
   ]
  },
  {
   "cell_type": "code",
   "execution_count": 31,
   "metadata": {},
   "outputs": [],
   "source": [
    "people_list = wiki.people_list._data()\n",
    "#people_list = pd.read_csv(\"personList_space.csv\",names=[\"title\"])\n",
    "events_list = wiki.events_list._data()\n",
    "#events_list = pd.read_csv(\"eventList_space.csv\",names=[\"title\"])"
   ]
  },
  {
   "cell_type": "markdown",
   "metadata": {},
   "source": [
    "### merge score and date to get three dataframes separately for people, events, others"
   ]
  },
  {
   "cell_type": "code",
   "execution_count": 32,
   "metadata": {},
   "outputs": [
    {
     "name": "stdout",
     "output_type": "stream",
     "text": [
      "length of People for Articles with geolocation is 1816\n",
      "length of Events for Articles with geolocation is 7477\n",
      "length of Others for Articles with geolocation is 913577\n",
      "length of People for Talks with geolocation is 1191\n",
      "length of Events for Talks with geolocation is 4442\n",
      "length of Others for Talks with geolocation is 268773\n"
     ]
    }
   ],
   "source": [
    "# split title_score_geo into people, events, others three groups, and add date to people, events\n",
    "df = {\"Articles\":{},\"Talks\":{}}\n",
    "temp_df = None\n",
    "for one in df:\n",
    "    # for people\n",
    "    temp_df = title_score_geo[one].merge(people_list,how='inner')\n",
    "    print (\"length of People for %s with geolocation is %d\"%(one,len(temp_df)))\n",
    "    df[one][\"People\"] = temp_df.merge(dates[\"People\"],how='left')\n",
    "    \n",
    "    temp_df = None\n",
    "    # for events\n",
    "    temp_df = title_score_geo[one].merge(events_list,how='inner')\n",
    "    print (\"length of Events for %s with geolocation is %d\"%(one,len(temp_df)))\n",
    "    df[one][\"Events\"] = temp_df.merge(dates[\"Events\"],how='left')\n",
    "\n",
    "    temp_df = None\n",
    "    # for others\n",
    "    temp_df = title_score_geo[one][~title_score_geo[one]['title'].isin(people_list['title'])]\n",
    "    df[one][\"Others\"] = temp_df[~temp_df['title'].isin(events_list['title'])]\n",
    "    print (\"length of Others for %s with geolocation is %d\"%(one,len(df[one][\"Others\"])))\n",
    "#     print (df[one][\"People\"].head(2))\n",
    "#     print (\"---\")\n",
    "#     print (df[one][\"Others\"].head(2))"
   ]
  },
  {
   "cell_type": "code",
   "execution_count": 33,
   "metadata": {},
   "outputs": [
    {
     "name": "stdout",
     "output_type": "stream",
     "text": [
      "                                title  pos_score_OL  neg_score_OL  \\\n",
      "0  Phillips' Sound Recording Services        1.8801        2.9377   \n",
      "1                Alimpiu Barboloviciu        1.1236        0.0000   \n",
      "2                   Sarah Fairbrother        3.2590        7.7187   \n",
      "\n",
      "   pos_score_MPQA  neg_score_MPQA  pos_score_LIWC  neg_score_LIWC  \\\n",
      "0          3.0552          4.1128          2.7027          2.7027   \n",
      "1          2.2472          0.0000          2.2472          0.0000   \n",
      "2          4.4597          5.3173          4.2882          3.7736   \n",
      "\n",
      "   pos_score_ANEW  neg_score_ANEW  length  \\\n",
      "0          3.6187          0.8058     851   \n",
      "1          0.3989          0.0000      89   \n",
      "2          4.3353          1.4867     583   \n",
      "\n",
      "                                     geometry         country continent  \\\n",
      "0           POINT (-2.960055555555555 53.411)  United Kingdom    Europe   \n",
      "1  POINT (22.91944444444445 47.2988888888889)         Romania    Europe   \n",
      "2       POINT (-0.2273800000000001 51.528787)  United Kingdom    Europe   \n",
      "\n",
      "         datetime_date  \n",
      "0                  NaN  \n",
      "1  1843-08-06 00:00:00  \n",
      "2  1816-10-31 00:00:00  \n"
     ]
    }
   ],
   "source": [
    "print (df[\"Articles\"][\"People\"].head(3))"
   ]
  },
  {
   "cell_type": "markdown",
   "metadata": {},
   "source": [
    "# get continent, country list from geopandas library"
   ]
  },
  {
   "cell_type": "code",
   "execution_count": 34,
   "metadata": {},
   "outputs": [
    {
     "name": "stdout",
     "output_type": "stream",
     "text": [
      "continent list for dropdown:\n",
      "['all', 'Africa', 'Antarctica', 'North America', 'Oceania', 'Asia', 'Europe', 'Seven seas (open ocean)', 'South America']\n"
     ]
    }
   ],
   "source": [
    "# prepare data for dropdown: continent list and country list\n",
    "\n",
    "# get world info\n",
    "world = gpd.read_file(gpd.datasets.get_path('naturalearth_lowres'))\n",
    "# get continent list plus \"all\"\n",
    "continent_list = [\"all\"] + list(set(world['continent']))\n",
    "#continent_list.append(\"all\")\n",
    "\n",
    "continent_country_dict = {}\n",
    "for continent in continent_list:\n",
    "    continent_country_dict[continent] = [\"all\"] + list(world[world['continent']== continent]['name'])\n",
    "    #continent_country_dict[continent].append(\"all\")\n",
    "    \n",
    "print (\"continent list for dropdown:\")\n",
    "print (continent_list)"
   ]
  },
  {
   "cell_type": "markdown",
   "metadata": {},
   "source": [
    "# visualization"
   ]
  },
  {
   "cell_type": "code",
   "execution_count": 36,
   "metadata": {},
   "outputs": [
    {
     "data": {
      "application/vnd.jupyter.widget-view+json": {
       "model_id": "9593e502f5e74bd997b49ebc494e43ea",
       "version_major": 2,
       "version_minor": 0
      },
      "text/html": [
       "<p>Failed to display Jupyter Widget of type <code>VBox</code>.</p>\n",
       "<p>\n",
       "  If you're reading this message in Jupyter Notebook or JupyterLab, it may mean\n",
       "  that the widgets JavaScript is still loading. If this message persists, it\n",
       "  likely means that the widgets JavaScript library is either not installed or\n",
       "  not enabled. See the <a href=\"https://ipywidgets.readthedocs.io/en/stable/user_install.html\">Jupyter\n",
       "  Widgets Documentation</a> for setup instructions.\n",
       "</p>\n",
       "<p>\n",
       "  If you're reading this message in another notebook frontend (for example, a static\n",
       "  rendering on GitHub or <a href=\"https://nbviewer.jupyter.org/\">NBViewer</a>),\n",
       "  it may mean that your frontend doesn't currently support widgets.\n",
       "</p>\n"
      ],
      "text/plain": [
       "VBox(children=(HBox(children=(VBox(children=(Output(), VBox(children=(HTML(value=' <b>Sentiment representation: </b>red for negative, blue for positive.'),))), layout=Layout(border='solid 1px', height='100%', width='80%')), VBox(children=(VBox(children=(HTML(value='<b>Sentiment lexicon</b>'), RadioButtons(options=('OL', 'MPQA', 'LIWC', 'ANEW'), value='OL')), layout=Layout(border='solid 1px', flex='1 1 auto', width='auto')), VBox(children=(HTML(value='<b>Domain</b>'), RadioButtons(options=('Articles', 'Talks'), value='Articles')), layout=Layout(border='solid 1px', flex='1 1 auto', width='auto')), VBox(children=(HTML(value='<b>Target group</b>'), VBox(children=(Checkbox(value=False, description='People'), Checkbox(value=False, description='Events'), Checkbox(value=False, description='Others')))), layout=Layout(border='solid 1px', flex='1 1 auto', width='auto')), VBox(children=(HTML(value='<b>Score range</b>'), IntRangeSlider(value=(1, 100), continuous_update=False, description='total', layout=Layout(width='273px'), style=SliderStyle(description_width='50px')), IntRangeSlider(value=(1, 100), continuous_update=False, description='positive', layout=Layout(width='273px'), style=SliderStyle(description_width='50px')), IntRangeSlider(value=(1, 100), continuous_update=False, description='negative', layout=Layout(width='273px'), style=SliderStyle(description_width='50px'))), layout=Layout(border='solid 1px', flex='1 1 auto', width='auto')), VBox(children=(HTML(value='<b>Target area</b>'), Dropdown(description='continent:', layout=Layout(width='250px'), options=('all', 'Africa', 'Antarctica', 'North America', 'Oceania', 'Asia', 'Europe', 'Seven seas (open ocean)', 'South America'), value='all'), Dropdown(description='country:', layout=Layout(width='250px'), options=('all',), value='all')), layout=Layout(border='solid 1px', flex='1 1 auto', width='auto')), VBox(children=(Checkbox(value=False, description='minimum length setting'), Dropdown(description='minimum length', disabled=True, layout=Layout(width='250px'), options=(5, 10, 20, 30), value=5)), layout=Layout(border='solid 1px', flex='1 1 auto', width='auto'))), layout=Layout(align_items='stretch', border='solid 1px', display='flex', flex_flow='column', width='30%'))), layout=Layout(border='solid 1px')), VBox(children=(HTML(value='<b>Time range</b>'), Checkbox(value=False, description='Do not filter out date (if you tick it or select \"Others\" in \"Target group\", the time range will be ignored)', layout=Layout(width='800px')), SelectionRangeSlider(description='          ', index=(0, 1415), layout=Layout(height='40px', width='900px'), options=(('Jan1900', datetime.datetime(1900, 1, 1, 0, 0)), ('Feb1900', datetime.datetime(1900, 2, 1, 0, 0)), ('Mar1900', datetime.datetime(1900, 3, 1, 0, 0)), ('Apr1900', datetime.datetime(1900, 4, 1, 0, 0)), ('May1900', datetime.datetime(1900, 5, 1, 0, 0)), ('Jun1900', datetime.datetime(1900, 6, 1, 0, 0)), ('Jul1900', datetime.datetime(1900, 7, 1, 0, 0)), ('Aug1900', datetime.datetime(1900, 8, 1, 0, 0)), ('Sep1900', datetime.datetime(1900, 9, 1, 0, 0)), ('Oct1900', datetime.datetime(1900, 10, 1, 0, 0)), ('Nov1900', datetime.datetime(1900, 11, 1, 0, 0)), ('Dec1900', datetime.datetime(1900, 12, 1, 0, 0)), ('Jan1901', datetime.datetime(1901, 1, 1, 0, 0)), ('Feb1901', datetime.datetime(1901, 2, 1, 0, 0)), ('Mar1901', datetime.datetime(1901, 3, 1, 0, 0)), ('Apr1901', datetime.datetime(1901, 4, 1, 0, 0)), ('May1901', datetime.datetime(1901, 5, 1, 0, 0)), ('Jun1901', datetime.datetime(1901, 6, 1, 0, 0)), ('Jul1901', datetime.datetime(1901, 7, 1, 0, 0)), ('Aug1901', datetime.datetime(1901, 8, 1, 0, 0)), ('Sep1901', datetime.datetime(1901, 9, 1, 0, 0)), ('Oct1901', datetime.datetime(1901, 10, 1, 0, 0)), ('Nov1901', datetime.datetime(1901, 11, 1, 0, 0)), ('Dec1901', datetime.datetime(1901, 12, 1, 0, 0)), ('Jan1902', datetime.datetime(1902, 1, 1, 0, 0)), ('Feb1902', datetime.datetime(1902, 2, 1, 0, 0)), ('Mar1902', datetime.datetime(1902, 3, 1, 0, 0)), ('Apr1902', datetime.datetime(1902, 4, 1, 0, 0)), ('May1902', datetime.datetime(1902, 5, 1, 0, 0)), ('Jun1902', datetime.datetime(1902, 6, 1, 0, 0)), ('Jul1902', datetime.datetime(1902, 7, 1, 0, 0)), ('Aug1902', datetime.datetime(1902, 8, 1, 0, 0)), ('Sep1902', datetime.datetime(1902, 9, 1, 0, 0)), ('Oct1902', datetime.datetime(1902, 10, 1, 0, 0)), ('Nov1902', datetime.datetime(1902, 11, 1, 0, 0)), ('Dec1902', datetime.datetime(1902, 12, 1, 0, 0)), ('Jan1903', datetime.datetime(1903, 1, 1, 0, 0)), ('Feb1903', datetime.datetime(1903, 2, 1, 0, 0)), ('Mar1903', datetime.datetime(1903, 3, 1, 0, 0)), ('Apr1903', datetime.datetime(1903, 4, 1, 0, 0)), ('May1903', datetime.datetime(1903, 5, 1, 0, 0)), ('Jun1903', datetime.datetime(1903, 6, 1, 0, 0)), ('Jul1903', datetime.datetime(1903, 7, 1, 0, 0)), ('Aug1903', datetime.datetime(1903, 8, 1, 0, 0)), ('Sep1903', datetime.datetime(1903, 9, 1, 0, 0)), ('Oct1903', datetime.datetime(1903, 10, 1, 0, 0)), ('Nov1903', datetime.datetime(1903, 11, 1, 0, 0)), ('Dec1903', datetime.datetime(1903, 12, 1, 0, 0)), ('Jan1904', datetime.datetime(1904, 1, 1, 0, 0)), ('Feb1904', datetime.datetime(1904, 2, 1, 0, 0)), ('Mar1904', datetime.datetime(1904, 3, 1, 0, 0)), ('Apr1904', datetime.datetime(1904, 4, 1, 0, 0)), ('May1904', datetime.datetime(1904, 5, 1, 0, 0)), ('Jun1904', datetime.datetime(1904, 6, 1, 0, 0)), ('Jul1904', datetime.datetime(1904, 7, 1, 0, 0)), ('Aug1904', datetime.datetime(1904, 8, 1, 0, 0)), ('Sep1904', datetime.datetime(1904, 9, 1, 0, 0)), ('Oct1904', datetime.datetime(1904, 10, 1, 0, 0)), ('Nov1904', datetime.datetime(1904, 11, 1, 0, 0)), ('Dec1904', datetime.datetime(1904, 12, 1, 0, 0)), ('Jan1905', datetime.datetime(1905, 1, 1, 0, 0)), ('Feb1905', datetime.datetime(1905, 2, 1, 0, 0)), ('Mar1905', datetime.datetime(1905, 3, 1, 0, 0)), ('Apr1905', datetime.datetime(1905, 4, 1, 0, 0)), ('May1905', datetime.datetime(1905, 5, 1, 0, 0)), ('Jun1905', datetime.datetime(1905, 6, 1, 0, 0)), ('Jul1905', datetime.datetime(1905, 7, 1, 0, 0)), ('Aug1905', datetime.datetime(1905, 8, 1, 0, 0)), ('Sep1905', datetime.datetime(1905, 9, 1, 0, 0)), ('Oct1905', datetime.datetime(1905, 10, 1, 0, 0)), ('Nov1905', datetime.datetime(1905, 11, 1, 0, 0)), ('Dec1905', datetime.datetime(1905, 12, 1, 0, 0)), ('Jan1906', datetime.datetime(1906, 1, 1, 0, 0)), ('Feb1906', datetime.datetime(1906, 2, 1, 0, 0)), ('Mar1906', datetime.datetime(1906, 3, 1, 0, 0)), ('Apr1906', datetime.datetime(1906, 4, 1, 0, 0)), ('May1906', datetime.datetime(1906, 5, 1, 0, 0)), ('Jun1906', datetime.datetime(1906, 6, 1, 0, 0)), ('Jul1906', datetime.datetime(1906, 7, 1, 0, 0)), ('Aug1906', datetime.datetime(1906, 8, 1, 0, 0)), ('Sep1906', datetime.datetime(1906, 9, 1, 0, 0)), ('Oct1906', datetime.datetime(1906, 10, 1, 0, 0)), ('Nov1906', datetime.datetime(1906, 11, 1, 0, 0)), ('Dec1906', datetime.datetime(1906, 12, 1, 0, 0)), ('Jan1907', datetime.datetime(1907, 1, 1, 0, 0)), ('Feb1907', datetime.datetime(1907, 2, 1, 0, 0)), ('Mar1907', datetime.datetime(1907, 3, 1, 0, 0)), ('Apr1907', datetime.datetime(1907, 4, 1, 0, 0)), ('May1907', datetime.datetime(1907, 5, 1, 0, 0)), ('Jun1907', datetime.datetime(1907, 6, 1, 0, 0)), ('Jul1907', datetime.datetime(1907, 7, 1, 0, 0)), ('Aug1907', datetime.datetime(1907, 8, 1, 0, 0)), ('Sep1907', datetime.datetime(1907, 9, 1, 0, 0)), ('Oct1907', datetime.datetime(1907, 10, 1, 0, 0)), ('Nov1907', datetime.datetime(1907, 11, 1, 0, 0)), ('Dec1907', datetime.datetime(1907, 12, 1, 0, 0)), ('Jan1908', datetime.datetime(1908, 1, 1, 0, 0)), ('Feb1908', datetime.datetime(1908, 2, 1, 0, 0)), ('Mar1908', datetime.datetime(1908, 3, 1, 0, 0)), ('Apr1908', datetime.datetime(1908, 4, 1, 0, 0)), ('May1908', datetime.datetime(1908, 5, 1, 0, 0)), ('Jun1908', datetime.datetime(1908, 6, 1, 0, 0)), ('Jul1908', datetime.datetime(1908, 7, 1, 0, 0)), ('Aug1908', datetime.datetime(1908, 8, 1, 0, 0)), ('Sep1908', datetime.datetime(1908, 9, 1, 0, 0)), ('Oct1908', datetime.datetime(1908, 10, 1, 0, 0)), ('Nov1908', datetime.datetime(1908, 11, 1, 0, 0)), ('Dec1908', datetime.datetime(1908, 12, 1, 0, 0)), ('Jan1909', datetime.datetime(1909, 1, 1, 0, 0)), ('Feb1909', datetime.datetime(1909, 2, 1, 0, 0)), ('Mar1909', datetime.datetime(1909, 3, 1, 0, 0)), ('Apr1909', datetime.datetime(1909, 4, 1, 0, 0)), ('May1909', datetime.datetime(1909, 5, 1, 0, 0)), ('Jun1909', datetime.datetime(1909, 6, 1, 0, 0)), ('Jul1909', datetime.datetime(1909, 7, 1, 0, 0)), ('Aug1909', datetime.datetime(1909, 8, 1, 0, 0)), ('Sep1909', datetime.datetime(1909, 9, 1, 0, 0)), ('Oct1909', datetime.datetime(1909, 10, 1, 0, 0)), ('Nov1909', datetime.datetime(1909, 11, 1, 0, 0)), ('Dec1909', datetime.datetime(1909, 12, 1, 0, 0)), ('Jan1910', datetime.datetime(1910, 1, 1, 0, 0)), ('Feb1910', datetime.datetime(1910, 2, 1, 0, 0)), ('Mar1910', datetime.datetime(1910, 3, 1, 0, 0)), ('Apr1910', datetime.datetime(1910, 4, 1, 0, 0)), ('May1910', datetime.datetime(1910, 5, 1, 0, 0)), ('Jun1910', datetime.datetime(1910, 6, 1, 0, 0)), ('Jul1910', datetime.datetime(1910, 7, 1, 0, 0)), ('Aug1910', datetime.datetime(1910, 8, 1, 0, 0)), ('Sep1910', datetime.datetime(1910, 9, 1, 0, 0)), ('Oct1910', datetime.datetime(1910, 10, 1, 0, 0)), ('Nov1910', datetime.datetime(1910, 11, 1, 0, 0)), ('Dec1910', datetime.datetime(1910, 12, 1, 0, 0)), ('Jan1911', datetime.datetime(1911, 1, 1, 0, 0)), ('Feb1911', datetime.datetime(1911, 2, 1, 0, 0)), ('Mar1911', datetime.datetime(1911, 3, 1, 0, 0)), ('Apr1911', datetime.datetime(1911, 4, 1, 0, 0)), ('May1911', datetime.datetime(1911, 5, 1, 0, 0)), ('Jun1911', datetime.datetime(1911, 6, 1, 0, 0)), ('Jul1911', datetime.datetime(1911, 7, 1, 0, 0)), ('Aug1911', datetime.datetime(1911, 8, 1, 0, 0)), ('Sep1911', datetime.datetime(1911, 9, 1, 0, 0)), ('Oct1911', datetime.datetime(1911, 10, 1, 0, 0)), ('Nov1911', datetime.datetime(1911, 11, 1, 0, 0)), ('Dec1911', datetime.datetime(1911, 12, 1, 0, 0)), ('Jan1912', datetime.datetime(1912, 1, 1, 0, 0)), ('Feb1912', datetime.datetime(1912, 2, 1, 0, 0)), ('Mar1912', datetime.datetime(1912, 3, 1, 0, 0)), ('Apr1912', datetime.datetime(1912, 4, 1, 0, 0)), ('May1912', datetime.datetime(1912, 5, 1, 0, 0)), ('Jun1912', datetime.datetime(1912, 6, 1, 0, 0)), ('Jul1912', datetime.datetime(1912, 7, 1, 0, 0)), ('Aug1912', datetime.datetime(1912, 8, 1, 0, 0)), ('Sep1912', datetime.datetime(1912, 9, 1, 0, 0)), ('Oct1912', datetime.datetime(1912, 10, 1, 0, 0)), ('Nov1912', datetime.datetime(1912, 11, 1, 0, 0)), ('Dec1912', datetime.datetime(1912, 12, 1, 0, 0)), ('Jan1913', datetime.datetime(1913, 1, 1, 0, 0)), ('Feb1913', datetime.datetime(1913, 2, 1, 0, 0)), ('Mar1913', datetime.datetime(1913, 3, 1, 0, 0)), ('Apr1913', datetime.datetime(1913, 4, 1, 0, 0)), ('May1913', datetime.datetime(1913, 5, 1, 0, 0)), ('Jun1913', datetime.datetime(1913, 6, 1, 0, 0)), ('Jul1913', datetime.datetime(1913, 7, 1, 0, 0)), ('Aug1913', datetime.datetime(1913, 8, 1, 0, 0)), ('Sep1913', datetime.datetime(1913, 9, 1, 0, 0)), ('Oct1913', datetime.datetime(1913, 10, 1, 0, 0)), ('Nov1913', datetime.datetime(1913, 11, 1, 0, 0)), ('Dec1913', datetime.datetime(1913, 12, 1, 0, 0)), ('Jan1914', datetime.datetime(1914, 1, 1, 0, 0)), ('Feb1914', datetime.datetime(1914, 2, 1, 0, 0)), ('Mar1914', datetime.datetime(1914, 3, 1, 0, 0)), ('Apr1914', datetime.datetime(1914, 4, 1, 0, 0)), ('May1914', datetime.datetime(1914, 5, 1, 0, 0)), ('Jun1914', datetime.datetime(1914, 6, 1, 0, 0)), ('Jul1914', datetime.datetime(1914, 7, 1, 0, 0)), ('Aug1914', datetime.datetime(1914, 8, 1, 0, 0)), ('Sep1914', datetime.datetime(1914, 9, 1, 0, 0)), ('Oct1914', datetime.datetime(1914, 10, 1, 0, 0)), ('Nov1914', datetime.datetime(1914, 11, 1, 0, 0)), ('Dec1914', datetime.datetime(1914, 12, 1, 0, 0)), ('Jan1915', datetime.datetime(1915, 1, 1, 0, 0)), ('Feb1915', datetime.datetime(1915, 2, 1, 0, 0)), ('Mar1915', datetime.datetime(1915, 3, 1, 0, 0)), ('Apr1915', datetime.datetime(1915, 4, 1, 0, 0)), ('May1915', datetime.datetime(1915, 5, 1, 0, 0)), ('Jun1915', datetime.datetime(1915, 6, 1, 0, 0)), ('Jul1915', datetime.datetime(1915, 7, 1, 0, 0)), ('Aug1915', datetime.datetime(1915, 8, 1, 0, 0)), ('Sep1915', datetime.datetime(1915, 9, 1, 0, 0)), ('Oct1915', datetime.datetime(1915, 10, 1, 0, 0)), ('Nov1915', datetime.datetime(1915, 11, 1, 0, 0)), ('Dec1915', datetime.datetime(1915, 12, 1, 0, 0)), ('Jan1916', datetime.datetime(1916, 1, 1, 0, 0)), ('Feb1916', datetime.datetime(1916, 2, 1, 0, 0)), ('Mar1916', datetime.datetime(1916, 3, 1, 0, 0)), ('Apr1916', datetime.datetime(1916, 4, 1, 0, 0)), ('May1916', datetime.datetime(1916, 5, 1, 0, 0)), ('Jun1916', datetime.datetime(1916, 6, 1, 0, 0)), ('Jul1916', datetime.datetime(1916, 7, 1, 0, 0)), ('Aug1916', datetime.datetime(1916, 8, 1, 0, 0)), ('Sep1916', datetime.datetime(1916, 9, 1, 0, 0)), ('Oct1916', datetime.datetime(1916, 10, 1, 0, 0)), ('Nov1916', datetime.datetime(1916, 11, 1, 0, 0)), ('Dec1916', datetime.datetime(1916, 12, 1, 0, 0)), ('Jan1917', datetime.datetime(1917, 1, 1, 0, 0)), ('Feb1917', datetime.datetime(1917, 2, 1, 0, 0)), ('Mar1917', datetime.datetime(1917, 3, 1, 0, 0)), ('Apr1917', datetime.datetime(1917, 4, 1, 0, 0)), ('May1917', datetime.datetime(1917, 5, 1, 0, 0)), ('Jun1917', datetime.datetime(1917, 6, 1, 0, 0)), ('Jul1917', datetime.datetime(1917, 7, 1, 0, 0)), ('Aug1917', datetime.datetime(1917, 8, 1, 0, 0)), ('Sep1917', datetime.datetime(1917, 9, 1, 0, 0)), ('Oct1917', datetime.datetime(1917, 10, 1, 0, 0)), ('Nov1917', datetime.datetime(1917, 11, 1, 0, 0)), ('Dec1917', datetime.datetime(1917, 12, 1, 0, 0)), ('Jan1918', datetime.datetime(1918, 1, 1, 0, 0)), ('Feb1918', datetime.datetime(1918, 2, 1, 0, 0)), ('Mar1918', datetime.datetime(1918, 3, 1, 0, 0)), ('Apr1918', datetime.datetime(1918, 4, 1, 0, 0)), ('May1918', datetime.datetime(1918, 5, 1, 0, 0)), ('Jun1918', datetime.datetime(1918, 6, 1, 0, 0)), ('Jul1918', datetime.datetime(1918, 7, 1, 0, 0)), ('Aug1918', datetime.datetime(1918, 8, 1, 0, 0)), ('Sep1918', datetime.datetime(1918, 9, 1, 0, 0)), ('Oct1918', datetime.datetime(1918, 10, 1, 0, 0)), ('Nov1918', datetime.datetime(1918, 11, 1, 0, 0)), ('Dec1918', datetime.datetime(1918, 12, 1, 0, 0)), ('Jan1919', datetime.datetime(1919, 1, 1, 0, 0)), ('Feb1919', datetime.datetime(1919, 2, 1, 0, 0)), ('Mar1919', datetime.datetime(1919, 3, 1, 0, 0)), ('Apr1919', datetime.datetime(1919, 4, 1, 0, 0)), ('May1919', datetime.datetime(1919, 5, 1, 0, 0)), ('Jun1919', datetime.datetime(1919, 6, 1, 0, 0)), ('Jul1919', datetime.datetime(1919, 7, 1, 0, 0)), ('Aug1919', datetime.datetime(1919, 8, 1, 0, 0)), ('Sep1919', datetime.datetime(1919, 9, 1, 0, 0)), ('Oct1919', datetime.datetime(1919, 10, 1, 0, 0)), ('Nov1919', datetime.datetime(1919, 11, 1, 0, 0)), ('Dec1919', datetime.datetime(1919, 12, 1, 0, 0)), ('Jan1920', datetime.datetime(1920, 1, 1, 0, 0)), ('Feb1920', datetime.datetime(1920, 2, 1, 0, 0)), ('Mar1920', datetime.datetime(1920, 3, 1, 0, 0)), ('Apr1920', datetime.datetime(1920, 4, 1, 0, 0)), ('May1920', datetime.datetime(1920, 5, 1, 0, 0)), ('Jun1920', datetime.datetime(1920, 6, 1, 0, 0)), ('Jul1920', datetime.datetime(1920, 7, 1, 0, 0)), ('Aug1920', datetime.datetime(1920, 8, 1, 0, 0)), ('Sep1920', datetime.datetime(1920, 9, 1, 0, 0)), ('Oct1920', datetime.datetime(1920, 10, 1, 0, 0)), ('Nov1920', datetime.datetime(1920, 11, 1, 0, 0)), ('Dec1920', datetime.datetime(1920, 12, 1, 0, 0)), ('Jan1921', datetime.datetime(1921, 1, 1, 0, 0)), ('Feb1921', datetime.datetime(1921, 2, 1, 0, 0)), ('Mar1921', datetime.datetime(1921, 3, 1, 0, 0)), ('Apr1921', datetime.datetime(1921, 4, 1, 0, 0)), ('May1921', datetime.datetime(1921, 5, 1, 0, 0)), ('Jun1921', datetime.datetime(1921, 6, 1, 0, 0)), ('Jul1921', datetime.datetime(1921, 7, 1, 0, 0)), ('Aug1921', datetime.datetime(1921, 8, 1, 0, 0)), ('Sep1921', datetime.datetime(1921, 9, 1, 0, 0)), ('Oct1921', datetime.datetime(1921, 10, 1, 0, 0)), ('Nov1921', datetime.datetime(1921, 11, 1, 0, 0)), ('Dec1921', datetime.datetime(1921, 12, 1, 0, 0)), ('Jan1922', datetime.datetime(1922, 1, 1, 0, 0)), ('Feb1922', datetime.datetime(1922, 2, 1, 0, 0)), ('Mar1922', datetime.datetime(1922, 3, 1, 0, 0)), ('Apr1922', datetime.datetime(1922, 4, 1, 0, 0)), ('May1922', datetime.datetime(1922, 5, 1, 0, 0)), ('Jun1922', datetime.datetime(1922, 6, 1, 0, 0)), ('Jul1922', datetime.datetime(1922, 7, 1, 0, 0)), ('Aug1922', datetime.datetime(1922, 8, 1, 0, 0)), ('Sep1922', datetime.datetime(1922, 9, 1, 0, 0)), ('Oct1922', datetime.datetime(1922, 10, 1, 0, 0)), ('Nov1922', datetime.datetime(1922, 11, 1, 0, 0)), ('Dec1922', datetime.datetime(1922, 12, 1, 0, 0)), ('Jan1923', datetime.datetime(1923, 1, 1, 0, 0)), ('Feb1923', datetime.datetime(1923, 2, 1, 0, 0)), ('Mar1923', datetime.datetime(1923, 3, 1, 0, 0)), ('Apr1923', datetime.datetime(1923, 4, 1, 0, 0)), ('May1923', datetime.datetime(1923, 5, 1, 0, 0)), ('Jun1923', datetime.datetime(1923, 6, 1, 0, 0)), ('Jul1923', datetime.datetime(1923, 7, 1, 0, 0)), ('Aug1923', datetime.datetime(1923, 8, 1, 0, 0)), ('Sep1923', datetime.datetime(1923, 9, 1, 0, 0)), ('Oct1923', datetime.datetime(1923, 10, 1, 0, 0)), ('Nov1923', datetime.datetime(1923, 11, 1, 0, 0)), ('Dec1923', datetime.datetime(1923, 12, 1, 0, 0)), ('Jan1924', datetime.datetime(1924, 1, 1, 0, 0)), ('Feb1924', datetime.datetime(1924, 2, 1, 0, 0)), ('Mar1924', datetime.datetime(1924, 3, 1, 0, 0)), ('Apr1924', datetime.datetime(1924, 4, 1, 0, 0)), ('May1924', datetime.datetime(1924, 5, 1, 0, 0)), ('Jun1924', datetime.datetime(1924, 6, 1, 0, 0)), ('Jul1924', datetime.datetime(1924, 7, 1, 0, 0)), ('Aug1924', datetime.datetime(1924, 8, 1, 0, 0)), ('Sep1924', datetime.datetime(1924, 9, 1, 0, 0)), ('Oct1924', datetime.datetime(1924, 10, 1, 0, 0)), ('Nov1924', datetime.datetime(1924, 11, 1, 0, 0)), ('Dec1924', datetime.datetime(1924, 12, 1, 0, 0)), ('Jan1925', datetime.datetime(1925, 1, 1, 0, 0)), ('Feb1925', datetime.datetime(1925, 2, 1, 0, 0)), ('Mar1925', datetime.datetime(1925, 3, 1, 0, 0)), ('Apr1925', datetime.datetime(1925, 4, 1, 0, 0)), ('May1925', datetime.datetime(1925, 5, 1, 0, 0)), ('Jun1925', datetime.datetime(1925, 6, 1, 0, 0)), ('Jul1925', datetime.datetime(1925, 7, 1, 0, 0)), ('Aug1925', datetime.datetime(1925, 8, 1, 0, 0)), ('Sep1925', datetime.datetime(1925, 9, 1, 0, 0)), ('Oct1925', datetime.datetime(1925, 10, 1, 0, 0)), ('Nov1925', datetime.datetime(1925, 11, 1, 0, 0)), ('Dec1925', datetime.datetime(1925, 12, 1, 0, 0)), ('Jan1926', datetime.datetime(1926, 1, 1, 0, 0)), ('Feb1926', datetime.datetime(1926, 2, 1, 0, 0)), ('Mar1926', datetime.datetime(1926, 3, 1, 0, 0)), ('Apr1926', datetime.datetime(1926, 4, 1, 0, 0)), ('May1926', datetime.datetime(1926, 5, 1, 0, 0)), ('Jun1926', datetime.datetime(1926, 6, 1, 0, 0)), ('Jul1926', datetime.datetime(1926, 7, 1, 0, 0)), ('Aug1926', datetime.datetime(1926, 8, 1, 0, 0)), ('Sep1926', datetime.datetime(1926, 9, 1, 0, 0)), ('Oct1926', datetime.datetime(1926, 10, 1, 0, 0)), ('Nov1926', datetime.datetime(1926, 11, 1, 0, 0)), ('Dec1926', datetime.datetime(1926, 12, 1, 0, 0)), ('Jan1927', datetime.datetime(1927, 1, 1, 0, 0)), ('Feb1927', datetime.datetime(1927, 2, 1, 0, 0)), ('Mar1927', datetime.datetime(1927, 3, 1, 0, 0)), ('Apr1927', datetime.datetime(1927, 4, 1, 0, 0)), ('May1927', datetime.datetime(1927, 5, 1, 0, 0)), ('Jun1927', datetime.datetime(1927, 6, 1, 0, 0)), ('Jul1927', datetime.datetime(1927, 7, 1, 0, 0)), ('Aug1927', datetime.datetime(1927, 8, 1, 0, 0)), ('Sep1927', datetime.datetime(1927, 9, 1, 0, 0)), ('Oct1927', datetime.datetime(1927, 10, 1, 0, 0)), ('Nov1927', datetime.datetime(1927, 11, 1, 0, 0)), ('Dec1927', datetime.datetime(1927, 12, 1, 0, 0)), ('Jan1928', datetime.datetime(1928, 1, 1, 0, 0)), ('Feb1928', datetime.datetime(1928, 2, 1, 0, 0)), ('Mar1928', datetime.datetime(1928, 3, 1, 0, 0)), ('Apr1928', datetime.datetime(1928, 4, 1, 0, 0)), ('May1928', datetime.datetime(1928, 5, 1, 0, 0)), ('Jun1928', datetime.datetime(1928, 6, 1, 0, 0)), ('Jul1928', datetime.datetime(1928, 7, 1, 0, 0)), ('Aug1928', datetime.datetime(1928, 8, 1, 0, 0)), ('Sep1928', datetime.datetime(1928, 9, 1, 0, 0)), ('Oct1928', datetime.datetime(1928, 10, 1, 0, 0)), ('Nov1928', datetime.datetime(1928, 11, 1, 0, 0)), ('Dec1928', datetime.datetime(1928, 12, 1, 0, 0)), ('Jan1929', datetime.datetime(1929, 1, 1, 0, 0)), ('Feb1929', datetime.datetime(1929, 2, 1, 0, 0)), ('Mar1929', datetime.datetime(1929, 3, 1, 0, 0)), ('Apr1929', datetime.datetime(1929, 4, 1, 0, 0)), ('May1929', datetime.datetime(1929, 5, 1, 0, 0)), ('Jun1929', datetime.datetime(1929, 6, 1, 0, 0)), ('Jul1929', datetime.datetime(1929, 7, 1, 0, 0)), ('Aug1929', datetime.datetime(1929, 8, 1, 0, 0)), ('Sep1929', datetime.datetime(1929, 9, 1, 0, 0)), ('Oct1929', datetime.datetime(1929, 10, 1, 0, 0)), ('Nov1929', datetime.datetime(1929, 11, 1, 0, 0)), ('Dec1929', datetime.datetime(1929, 12, 1, 0, 0)), ('Jan1930', datetime.datetime(1930, 1, 1, 0, 0)), ('Feb1930', datetime.datetime(1930, 2, 1, 0, 0)), ('Mar1930', datetime.datetime(1930, 3, 1, 0, 0)), ('Apr1930', datetime.datetime(1930, 4, 1, 0, 0)), ('May1930', datetime.datetime(1930, 5, 1, 0, 0)), ('Jun1930', datetime.datetime(1930, 6, 1, 0, 0)), ('Jul1930', datetime.datetime(1930, 7, 1, 0, 0)), ('Aug1930', datetime.datetime(1930, 8, 1, 0, 0)), ('Sep1930', datetime.datetime(1930, 9, 1, 0, 0)), ('Oct1930', datetime.datetime(1930, 10, 1, 0, 0)), ('Nov1930', datetime.datetime(1930, 11, 1, 0, 0)), ('Dec1930', datetime.datetime(1930, 12, 1, 0, 0)), ('Jan1931', datetime.datetime(1931, 1, 1, 0, 0)), ('Feb1931', datetime.datetime(1931, 2, 1, 0, 0)), ('Mar1931', datetime.datetime(1931, 3, 1, 0, 0)), ('Apr1931', datetime.datetime(1931, 4, 1, 0, 0)), ('May1931', datetime.datetime(1931, 5, 1, 0, 0)), ('Jun1931', datetime.datetime(1931, 6, 1, 0, 0)), ('Jul1931', datetime.datetime(1931, 7, 1, 0, 0)), ('Aug1931', datetime.datetime(1931, 8, 1, 0, 0)), ('Sep1931', datetime.datetime(1931, 9, 1, 0, 0)), ('Oct1931', datetime.datetime(1931, 10, 1, 0, 0)), ('Nov1931', datetime.datetime(1931, 11, 1, 0, 0)), ('Dec1931', datetime.datetime(1931, 12, 1, 0, 0)), ('Jan1932', datetime.datetime(1932, 1, 1, 0, 0)), ('Feb1932', datetime.datetime(1932, 2, 1, 0, 0)), ('Mar1932', datetime.datetime(1932, 3, 1, 0, 0)), ('Apr1932', datetime.datetime(1932, 4, 1, 0, 0)), ('May1932', datetime.datetime(1932, 5, 1, 0, 0)), ('Jun1932', datetime.datetime(1932, 6, 1, 0, 0)), ('Jul1932', datetime.datetime(1932, 7, 1, 0, 0)), ('Aug1932', datetime.datetime(1932, 8, 1, 0, 0)), ('Sep1932', datetime.datetime(1932, 9, 1, 0, 0)), ('Oct1932', datetime.datetime(1932, 10, 1, 0, 0)), ('Nov1932', datetime.datetime(1932, 11, 1, 0, 0)), ('Dec1932', datetime.datetime(1932, 12, 1, 0, 0)), ('Jan1933', datetime.datetime(1933, 1, 1, 0, 0)), ('Feb1933', datetime.datetime(1933, 2, 1, 0, 0)), ('Mar1933', datetime.datetime(1933, 3, 1, 0, 0)), ('Apr1933', datetime.datetime(1933, 4, 1, 0, 0)), ('May1933', datetime.datetime(1933, 5, 1, 0, 0)), ('Jun1933', datetime.datetime(1933, 6, 1, 0, 0)), ('Jul1933', datetime.datetime(1933, 7, 1, 0, 0)), ('Aug1933', datetime.datetime(1933, 8, 1, 0, 0)), ('Sep1933', datetime.datetime(1933, 9, 1, 0, 0)), ('Oct1933', datetime.datetime(1933, 10, 1, 0, 0)), ('Nov1933', datetime.datetime(1933, 11, 1, 0, 0)), ('Dec1933', datetime.datetime(1933, 12, 1, 0, 0)), ('Jan1934', datetime.datetime(1934, 1, 1, 0, 0)), ('Feb1934', datetime.datetime(1934, 2, 1, 0, 0)), ('Mar1934', datetime.datetime(1934, 3, 1, 0, 0)), ('Apr1934', datetime.datetime(1934, 4, 1, 0, 0)), ('May1934', datetime.datetime(1934, 5, 1, 0, 0)), ('Jun1934', datetime.datetime(1934, 6, 1, 0, 0)), ('Jul1934', datetime.datetime(1934, 7, 1, 0, 0)), ('Aug1934', datetime.datetime(1934, 8, 1, 0, 0)), ('Sep1934', datetime.datetime(1934, 9, 1, 0, 0)), ('Oct1934', datetime.datetime(1934, 10, 1, 0, 0)), ('Nov1934', datetime.datetime(1934, 11, 1, 0, 0)), ('Dec1934', datetime.datetime(1934, 12, 1, 0, 0)), ('Jan1935', datetime.datetime(1935, 1, 1, 0, 0)), ('Feb1935', datetime.datetime(1935, 2, 1, 0, 0)), ('Mar1935', datetime.datetime(1935, 3, 1, 0, 0)), ('Apr1935', datetime.datetime(1935, 4, 1, 0, 0)), ('May1935', datetime.datetime(1935, 5, 1, 0, 0)), ('Jun1935', datetime.datetime(1935, 6, 1, 0, 0)), ('Jul1935', datetime.datetime(1935, 7, 1, 0, 0)), ('Aug1935', datetime.datetime(1935, 8, 1, 0, 0)), ('Sep1935', datetime.datetime(1935, 9, 1, 0, 0)), ('Oct1935', datetime.datetime(1935, 10, 1, 0, 0)), ('Nov1935', datetime.datetime(1935, 11, 1, 0, 0)), ('Dec1935', datetime.datetime(1935, 12, 1, 0, 0)), ('Jan1936', datetime.datetime(1936, 1, 1, 0, 0)), ('Feb1936', datetime.datetime(1936, 2, 1, 0, 0)), ('Mar1936', datetime.datetime(1936, 3, 1, 0, 0)), ('Apr1936', datetime.datetime(1936, 4, 1, 0, 0)), ('May1936', datetime.datetime(1936, 5, 1, 0, 0)), ('Jun1936', datetime.datetime(1936, 6, 1, 0, 0)), ('Jul1936', datetime.datetime(1936, 7, 1, 0, 0)), ('Aug1936', datetime.datetime(1936, 8, 1, 0, 0)), ('Sep1936', datetime.datetime(1936, 9, 1, 0, 0)), ('Oct1936', datetime.datetime(1936, 10, 1, 0, 0)), ('Nov1936', datetime.datetime(1936, 11, 1, 0, 0)), ('Dec1936', datetime.datetime(1936, 12, 1, 0, 0)), ('Jan1937', datetime.datetime(1937, 1, 1, 0, 0)), ('Feb1937', datetime.datetime(1937, 2, 1, 0, 0)), ('Mar1937', datetime.datetime(1937, 3, 1, 0, 0)), ('Apr1937', datetime.datetime(1937, 4, 1, 0, 0)), ('May1937', datetime.datetime(1937, 5, 1, 0, 0)), ('Jun1937', datetime.datetime(1937, 6, 1, 0, 0)), ('Jul1937', datetime.datetime(1937, 7, 1, 0, 0)), ('Aug1937', datetime.datetime(1937, 8, 1, 0, 0)), ('Sep1937', datetime.datetime(1937, 9, 1, 0, 0)), ('Oct1937', datetime.datetime(1937, 10, 1, 0, 0)), ('Nov1937', datetime.datetime(1937, 11, 1, 0, 0)), ('Dec1937', datetime.datetime(1937, 12, 1, 0, 0)), ('Jan1938', datetime.datetime(1938, 1, 1, 0, 0)), ('Feb1938', datetime.datetime(1938, 2, 1, 0, 0)), ('Mar1938', datetime.datetime(1938, 3, 1, 0, 0)), ('Apr1938', datetime.datetime(1938, 4, 1, 0, 0)), ('May1938', datetime.datetime(1938, 5, 1, 0, 0)), ('Jun1938', datetime.datetime(1938, 6, 1, 0, 0)), ('Jul1938', datetime.datetime(1938, 7, 1, 0, 0)), ('Aug1938', datetime.datetime(1938, 8, 1, 0, 0)), ('Sep1938', datetime.datetime(1938, 9, 1, 0, 0)), ('Oct1938', datetime.datetime(1938, 10, 1, 0, 0)), ('Nov1938', datetime.datetime(1938, 11, 1, 0, 0)), ('Dec1938', datetime.datetime(1938, 12, 1, 0, 0)), ('Jan1939', datetime.datetime(1939, 1, 1, 0, 0)), ('Feb1939', datetime.datetime(1939, 2, 1, 0, 0)), ('Mar1939', datetime.datetime(1939, 3, 1, 0, 0)), ('Apr1939', datetime.datetime(1939, 4, 1, 0, 0)), ('May1939', datetime.datetime(1939, 5, 1, 0, 0)), ('Jun1939', datetime.datetime(1939, 6, 1, 0, 0)), ('Jul1939', datetime.datetime(1939, 7, 1, 0, 0)), ('Aug1939', datetime.datetime(1939, 8, 1, 0, 0)), ('Sep1939', datetime.datetime(1939, 9, 1, 0, 0)), ('Oct1939', datetime.datetime(1939, 10, 1, 0, 0)), ('Nov1939', datetime.datetime(1939, 11, 1, 0, 0)), ('Dec1939', datetime.datetime(1939, 12, 1, 0, 0)), ('Jan1940', datetime.datetime(1940, 1, 1, 0, 0)), ('Feb1940', datetime.datetime(1940, 2, 1, 0, 0)), ('Mar1940', datetime.datetime(1940, 3, 1, 0, 0)), ('Apr1940', datetime.datetime(1940, 4, 1, 0, 0)), ('May1940', datetime.datetime(1940, 5, 1, 0, 0)), ('Jun1940', datetime.datetime(1940, 6, 1, 0, 0)), ('Jul1940', datetime.datetime(1940, 7, 1, 0, 0)), ('Aug1940', datetime.datetime(1940, 8, 1, 0, 0)), ('Sep1940', datetime.datetime(1940, 9, 1, 0, 0)), ('Oct1940', datetime.datetime(1940, 10, 1, 0, 0)), ('Nov1940', datetime.datetime(1940, 11, 1, 0, 0)), ('Dec1940', datetime.datetime(1940, 12, 1, 0, 0)), ('Jan1941', datetime.datetime(1941, 1, 1, 0, 0)), ('Feb1941', datetime.datetime(1941, 2, 1, 0, 0)), ('Mar1941', datetime.datetime(1941, 3, 1, 0, 0)), ('Apr1941', datetime.datetime(1941, 4, 1, 0, 0)), ('May1941', datetime.datetime(1941, 5, 1, 0, 0)), ('Jun1941', datetime.datetime(1941, 6, 1, 0, 0)), ('Jul1941', datetime.datetime(1941, 7, 1, 0, 0)), ('Aug1941', datetime.datetime(1941, 8, 1, 0, 0)), ('Sep1941', datetime.datetime(1941, 9, 1, 0, 0)), ('Oct1941', datetime.datetime(1941, 10, 1, 0, 0)), ('Nov1941', datetime.datetime(1941, 11, 1, 0, 0)), ('Dec1941', datetime.datetime(1941, 12, 1, 0, 0)), ('Jan1942', datetime.datetime(1942, 1, 1, 0, 0)), ('Feb1942', datetime.datetime(1942, 2, 1, 0, 0)), ('Mar1942', datetime.datetime(1942, 3, 1, 0, 0)), ('Apr1942', datetime.datetime(1942, 4, 1, 0, 0)), ('May1942', datetime.datetime(1942, 5, 1, 0, 0)), ('Jun1942', datetime.datetime(1942, 6, 1, 0, 0)), ('Jul1942', datetime.datetime(1942, 7, 1, 0, 0)), ('Aug1942', datetime.datetime(1942, 8, 1, 0, 0)), ('Sep1942', datetime.datetime(1942, 9, 1, 0, 0)), ('Oct1942', datetime.datetime(1942, 10, 1, 0, 0)), ('Nov1942', datetime.datetime(1942, 11, 1, 0, 0)), ('Dec1942', datetime.datetime(1942, 12, 1, 0, 0)), ('Jan1943', datetime.datetime(1943, 1, 1, 0, 0)), ('Feb1943', datetime.datetime(1943, 2, 1, 0, 0)), ('Mar1943', datetime.datetime(1943, 3, 1, 0, 0)), ('Apr1943', datetime.datetime(1943, 4, 1, 0, 0)), ('May1943', datetime.datetime(1943, 5, 1, 0, 0)), ('Jun1943', datetime.datetime(1943, 6, 1, 0, 0)), ('Jul1943', datetime.datetime(1943, 7, 1, 0, 0)), ('Aug1943', datetime.datetime(1943, 8, 1, 0, 0)), ('Sep1943', datetime.datetime(1943, 9, 1, 0, 0)), ('Oct1943', datetime.datetime(1943, 10, 1, 0, 0)), ('Nov1943', datetime.datetime(1943, 11, 1, 0, 0)), ('Dec1943', datetime.datetime(1943, 12, 1, 0, 0)), ('Jan1944', datetime.datetime(1944, 1, 1, 0, 0)), ('Feb1944', datetime.datetime(1944, 2, 1, 0, 0)), ('Mar1944', datetime.datetime(1944, 3, 1, 0, 0)), ('Apr1944', datetime.datetime(1944, 4, 1, 0, 0)), ('May1944', datetime.datetime(1944, 5, 1, 0, 0)), ('Jun1944', datetime.datetime(1944, 6, 1, 0, 0)), ('Jul1944', datetime.datetime(1944, 7, 1, 0, 0)), ('Aug1944', datetime.datetime(1944, 8, 1, 0, 0)), ('Sep1944', datetime.datetime(1944, 9, 1, 0, 0)), ('Oct1944', datetime.datetime(1944, 10, 1, 0, 0)), ('Nov1944', datetime.datetime(1944, 11, 1, 0, 0)), ('Dec1944', datetime.datetime(1944, 12, 1, 0, 0)), ('Jan1945', datetime.datetime(1945, 1, 1, 0, 0)), ('Feb1945', datetime.datetime(1945, 2, 1, 0, 0)), ('Mar1945', datetime.datetime(1945, 3, 1, 0, 0)), ('Apr1945', datetime.datetime(1945, 4, 1, 0, 0)), ('May1945', datetime.datetime(1945, 5, 1, 0, 0)), ('Jun1945', datetime.datetime(1945, 6, 1, 0, 0)), ('Jul1945', datetime.datetime(1945, 7, 1, 0, 0)), ('Aug1945', datetime.datetime(1945, 8, 1, 0, 0)), ('Sep1945', datetime.datetime(1945, 9, 1, 0, 0)), ('Oct1945', datetime.datetime(1945, 10, 1, 0, 0)), ('Nov1945', datetime.datetime(1945, 11, 1, 0, 0)), ('Dec1945', datetime.datetime(1945, 12, 1, 0, 0)), ('Jan1946', datetime.datetime(1946, 1, 1, 0, 0)), ('Feb1946', datetime.datetime(1946, 2, 1, 0, 0)), ('Mar1946', datetime.datetime(1946, 3, 1, 0, 0)), ('Apr1946', datetime.datetime(1946, 4, 1, 0, 0)), ('May1946', datetime.datetime(1946, 5, 1, 0, 0)), ('Jun1946', datetime.datetime(1946, 6, 1, 0, 0)), ('Jul1946', datetime.datetime(1946, 7, 1, 0, 0)), ('Aug1946', datetime.datetime(1946, 8, 1, 0, 0)), ('Sep1946', datetime.datetime(1946, 9, 1, 0, 0)), ('Oct1946', datetime.datetime(1946, 10, 1, 0, 0)), ('Nov1946', datetime.datetime(1946, 11, 1, 0, 0)), ('Dec1946', datetime.datetime(1946, 12, 1, 0, 0)), ('Jan1947', datetime.datetime(1947, 1, 1, 0, 0)), ('Feb1947', datetime.datetime(1947, 2, 1, 0, 0)), ('Mar1947', datetime.datetime(1947, 3, 1, 0, 0)), ('Apr1947', datetime.datetime(1947, 4, 1, 0, 0)), ('May1947', datetime.datetime(1947, 5, 1, 0, 0)), ('Jun1947', datetime.datetime(1947, 6, 1, 0, 0)), ('Jul1947', datetime.datetime(1947, 7, 1, 0, 0)), ('Aug1947', datetime.datetime(1947, 8, 1, 0, 0)), ('Sep1947', datetime.datetime(1947, 9, 1, 0, 0)), ('Oct1947', datetime.datetime(1947, 10, 1, 0, 0)), ('Nov1947', datetime.datetime(1947, 11, 1, 0, 0)), ('Dec1947', datetime.datetime(1947, 12, 1, 0, 0)), ('Jan1948', datetime.datetime(1948, 1, 1, 0, 0)), ('Feb1948', datetime.datetime(1948, 2, 1, 0, 0)), ('Mar1948', datetime.datetime(1948, 3, 1, 0, 0)), ('Apr1948', datetime.datetime(1948, 4, 1, 0, 0)), ('May1948', datetime.datetime(1948, 5, 1, 0, 0)), ('Jun1948', datetime.datetime(1948, 6, 1, 0, 0)), ('Jul1948', datetime.datetime(1948, 7, 1, 0, 0)), ('Aug1948', datetime.datetime(1948, 8, 1, 0, 0)), ('Sep1948', datetime.datetime(1948, 9, 1, 0, 0)), ('Oct1948', datetime.datetime(1948, 10, 1, 0, 0)), ('Nov1948', datetime.datetime(1948, 11, 1, 0, 0)), ('Dec1948', datetime.datetime(1948, 12, 1, 0, 0)), ('Jan1949', datetime.datetime(1949, 1, 1, 0, 0)), ('Feb1949', datetime.datetime(1949, 2, 1, 0, 0)), ('Mar1949', datetime.datetime(1949, 3, 1, 0, 0)), ('Apr1949', datetime.datetime(1949, 4, 1, 0, 0)), ('May1949', datetime.datetime(1949, 5, 1, 0, 0)), ('Jun1949', datetime.datetime(1949, 6, 1, 0, 0)), ('Jul1949', datetime.datetime(1949, 7, 1, 0, 0)), ('Aug1949', datetime.datetime(1949, 8, 1, 0, 0)), ('Sep1949', datetime.datetime(1949, 9, 1, 0, 0)), ('Oct1949', datetime.datetime(1949, 10, 1, 0, 0)), ('Nov1949', datetime.datetime(1949, 11, 1, 0, 0)), ('Dec1949', datetime.datetime(1949, 12, 1, 0, 0)), ('Jan1950', datetime.datetime(1950, 1, 1, 0, 0)), ('Feb1950', datetime.datetime(1950, 2, 1, 0, 0)), ('Mar1950', datetime.datetime(1950, 3, 1, 0, 0)), ('Apr1950', datetime.datetime(1950, 4, 1, 0, 0)), ('May1950', datetime.datetime(1950, 5, 1, 0, 0)), ('Jun1950', datetime.datetime(1950, 6, 1, 0, 0)), ('Jul1950', datetime.datetime(1950, 7, 1, 0, 0)), ('Aug1950', datetime.datetime(1950, 8, 1, 0, 0)), ('Sep1950', datetime.datetime(1950, 9, 1, 0, 0)), ('Oct1950', datetime.datetime(1950, 10, 1, 0, 0)), ('Nov1950', datetime.datetime(1950, 11, 1, 0, 0)), ('Dec1950', datetime.datetime(1950, 12, 1, 0, 0)), ('Jan1951', datetime.datetime(1951, 1, 1, 0, 0)), ('Feb1951', datetime.datetime(1951, 2, 1, 0, 0)), ('Mar1951', datetime.datetime(1951, 3, 1, 0, 0)), ('Apr1951', datetime.datetime(1951, 4, 1, 0, 0)), ('May1951', datetime.datetime(1951, 5, 1, 0, 0)), ('Jun1951', datetime.datetime(1951, 6, 1, 0, 0)), ('Jul1951', datetime.datetime(1951, 7, 1, 0, 0)), ('Aug1951', datetime.datetime(1951, 8, 1, 0, 0)), ('Sep1951', datetime.datetime(1951, 9, 1, 0, 0)), ('Oct1951', datetime.datetime(1951, 10, 1, 0, 0)), ('Nov1951', datetime.datetime(1951, 11, 1, 0, 0)), ('Dec1951', datetime.datetime(1951, 12, 1, 0, 0)), ('Jan1952', datetime.datetime(1952, 1, 1, 0, 0)), ('Feb1952', datetime.datetime(1952, 2, 1, 0, 0)), ('Mar1952', datetime.datetime(1952, 3, 1, 0, 0)), ('Apr1952', datetime.datetime(1952, 4, 1, 0, 0)), ('May1952', datetime.datetime(1952, 5, 1, 0, 0)), ('Jun1952', datetime.datetime(1952, 6, 1, 0, 0)), ('Jul1952', datetime.datetime(1952, 7, 1, 0, 0)), ('Aug1952', datetime.datetime(1952, 8, 1, 0, 0)), ('Sep1952', datetime.datetime(1952, 9, 1, 0, 0)), ('Oct1952', datetime.datetime(1952, 10, 1, 0, 0)), ('Nov1952', datetime.datetime(1952, 11, 1, 0, 0)), ('Dec1952', datetime.datetime(1952, 12, 1, 0, 0)), ('Jan1953', datetime.datetime(1953, 1, 1, 0, 0)), ('Feb1953', datetime.datetime(1953, 2, 1, 0, 0)), ('Mar1953', datetime.datetime(1953, 3, 1, 0, 0)), ('Apr1953', datetime.datetime(1953, 4, 1, 0, 0)), ('May1953', datetime.datetime(1953, 5, 1, 0, 0)), ('Jun1953', datetime.datetime(1953, 6, 1, 0, 0)), ('Jul1953', datetime.datetime(1953, 7, 1, 0, 0)), ('Aug1953', datetime.datetime(1953, 8, 1, 0, 0)), ('Sep1953', datetime.datetime(1953, 9, 1, 0, 0)), ('Oct1953', datetime.datetime(1953, 10, 1, 0, 0)), ('Nov1953', datetime.datetime(1953, 11, 1, 0, 0)), ('Dec1953', datetime.datetime(1953, 12, 1, 0, 0)), ('Jan1954', datetime.datetime(1954, 1, 1, 0, 0)), ('Feb1954', datetime.datetime(1954, 2, 1, 0, 0)), ('Mar1954', datetime.datetime(1954, 3, 1, 0, 0)), ('Apr1954', datetime.datetime(1954, 4, 1, 0, 0)), ('May1954', datetime.datetime(1954, 5, 1, 0, 0)), ('Jun1954', datetime.datetime(1954, 6, 1, 0, 0)), ('Jul1954', datetime.datetime(1954, 7, 1, 0, 0)), ('Aug1954', datetime.datetime(1954, 8, 1, 0, 0)), ('Sep1954', datetime.datetime(1954, 9, 1, 0, 0)), ('Oct1954', datetime.datetime(1954, 10, 1, 0, 0)), ('Nov1954', datetime.datetime(1954, 11, 1, 0, 0)), ('Dec1954', datetime.datetime(1954, 12, 1, 0, 0)), ('Jan1955', datetime.datetime(1955, 1, 1, 0, 0)), ('Feb1955', datetime.datetime(1955, 2, 1, 0, 0)), ('Mar1955', datetime.datetime(1955, 3, 1, 0, 0)), ('Apr1955', datetime.datetime(1955, 4, 1, 0, 0)), ('May1955', datetime.datetime(1955, 5, 1, 0, 0)), ('Jun1955', datetime.datetime(1955, 6, 1, 0, 0)), ('Jul1955', datetime.datetime(1955, 7, 1, 0, 0)), ('Aug1955', datetime.datetime(1955, 8, 1, 0, 0)), ('Sep1955', datetime.datetime(1955, 9, 1, 0, 0)), ('Oct1955', datetime.datetime(1955, 10, 1, 0, 0)), ('Nov1955', datetime.datetime(1955, 11, 1, 0, 0)), ('Dec1955', datetime.datetime(1955, 12, 1, 0, 0)), ('Jan1956', datetime.datetime(1956, 1, 1, 0, 0)), ('Feb1956', datetime.datetime(1956, 2, 1, 0, 0)), ('Mar1956', datetime.datetime(1956, 3, 1, 0, 0)), ('Apr1956', datetime.datetime(1956, 4, 1, 0, 0)), ('May1956', datetime.datetime(1956, 5, 1, 0, 0)), ('Jun1956', datetime.datetime(1956, 6, 1, 0, 0)), ('Jul1956', datetime.datetime(1956, 7, 1, 0, 0)), ('Aug1956', datetime.datetime(1956, 8, 1, 0, 0)), ('Sep1956', datetime.datetime(1956, 9, 1, 0, 0)), ('Oct1956', datetime.datetime(1956, 10, 1, 0, 0)), ('Nov1956', datetime.datetime(1956, 11, 1, 0, 0)), ('Dec1956', datetime.datetime(1956, 12, 1, 0, 0)), ('Jan1957', datetime.datetime(1957, 1, 1, 0, 0)), ('Feb1957', datetime.datetime(1957, 2, 1, 0, 0)), ('Mar1957', datetime.datetime(1957, 3, 1, 0, 0)), ('Apr1957', datetime.datetime(1957, 4, 1, 0, 0)), ('May1957', datetime.datetime(1957, 5, 1, 0, 0)), ('Jun1957', datetime.datetime(1957, 6, 1, 0, 0)), ('Jul1957', datetime.datetime(1957, 7, 1, 0, 0)), ('Aug1957', datetime.datetime(1957, 8, 1, 0, 0)), ('Sep1957', datetime.datetime(1957, 9, 1, 0, 0)), ('Oct1957', datetime.datetime(1957, 10, 1, 0, 0)), ('Nov1957', datetime.datetime(1957, 11, 1, 0, 0)), ('Dec1957', datetime.datetime(1957, 12, 1, 0, 0)), ('Jan1958', datetime.datetime(1958, 1, 1, 0, 0)), ('Feb1958', datetime.datetime(1958, 2, 1, 0, 0)), ('Mar1958', datetime.datetime(1958, 3, 1, 0, 0)), ('Apr1958', datetime.datetime(1958, 4, 1, 0, 0)), ('May1958', datetime.datetime(1958, 5, 1, 0, 0)), ('Jun1958', datetime.datetime(1958, 6, 1, 0, 0)), ('Jul1958', datetime.datetime(1958, 7, 1, 0, 0)), ('Aug1958', datetime.datetime(1958, 8, 1, 0, 0)), ('Sep1958', datetime.datetime(1958, 9, 1, 0, 0)), ('Oct1958', datetime.datetime(1958, 10, 1, 0, 0)), ('Nov1958', datetime.datetime(1958, 11, 1, 0, 0)), ('Dec1958', datetime.datetime(1958, 12, 1, 0, 0)), ('Jan1959', datetime.datetime(1959, 1, 1, 0, 0)), ('Feb1959', datetime.datetime(1959, 2, 1, 0, 0)), ('Mar1959', datetime.datetime(1959, 3, 1, 0, 0)), ('Apr1959', datetime.datetime(1959, 4, 1, 0, 0)), ('May1959', datetime.datetime(1959, 5, 1, 0, 0)), ('Jun1959', datetime.datetime(1959, 6, 1, 0, 0)), ('Jul1959', datetime.datetime(1959, 7, 1, 0, 0)), ('Aug1959', datetime.datetime(1959, 8, 1, 0, 0)), ('Sep1959', datetime.datetime(1959, 9, 1, 0, 0)), ('Oct1959', datetime.datetime(1959, 10, 1, 0, 0)), ('Nov1959', datetime.datetime(1959, 11, 1, 0, 0)), ('Dec1959', datetime.datetime(1959, 12, 1, 0, 0)), ('Jan1960', datetime.datetime(1960, 1, 1, 0, 0)), ('Feb1960', datetime.datetime(1960, 2, 1, 0, 0)), ('Mar1960', datetime.datetime(1960, 3, 1, 0, 0)), ('Apr1960', datetime.datetime(1960, 4, 1, 0, 0)), ('May1960', datetime.datetime(1960, 5, 1, 0, 0)), ('Jun1960', datetime.datetime(1960, 6, 1, 0, 0)), ('Jul1960', datetime.datetime(1960, 7, 1, 0, 0)), ('Aug1960', datetime.datetime(1960, 8, 1, 0, 0)), ('Sep1960', datetime.datetime(1960, 9, 1, 0, 0)), ('Oct1960', datetime.datetime(1960, 10, 1, 0, 0)), ('Nov1960', datetime.datetime(1960, 11, 1, 0, 0)), ('Dec1960', datetime.datetime(1960, 12, 1, 0, 0)), ('Jan1961', datetime.datetime(1961, 1, 1, 0, 0)), ('Feb1961', datetime.datetime(1961, 2, 1, 0, 0)), ('Mar1961', datetime.datetime(1961, 3, 1, 0, 0)), ('Apr1961', datetime.datetime(1961, 4, 1, 0, 0)), ('May1961', datetime.datetime(1961, 5, 1, 0, 0)), ('Jun1961', datetime.datetime(1961, 6, 1, 0, 0)), ('Jul1961', datetime.datetime(1961, 7, 1, 0, 0)), ('Aug1961', datetime.datetime(1961, 8, 1, 0, 0)), ('Sep1961', datetime.datetime(1961, 9, 1, 0, 0)), ('Oct1961', datetime.datetime(1961, 10, 1, 0, 0)), ('Nov1961', datetime.datetime(1961, 11, 1, 0, 0)), ('Dec1961', datetime.datetime(1961, 12, 1, 0, 0)), ('Jan1962', datetime.datetime(1962, 1, 1, 0, 0)), ('Feb1962', datetime.datetime(1962, 2, 1, 0, 0)), ('Mar1962', datetime.datetime(1962, 3, 1, 0, 0)), ('Apr1962', datetime.datetime(1962, 4, 1, 0, 0)), ('May1962', datetime.datetime(1962, 5, 1, 0, 0)), ('Jun1962', datetime.datetime(1962, 6, 1, 0, 0)), ('Jul1962', datetime.datetime(1962, 7, 1, 0, 0)), ('Aug1962', datetime.datetime(1962, 8, 1, 0, 0)), ('Sep1962', datetime.datetime(1962, 9, 1, 0, 0)), ('Oct1962', datetime.datetime(1962, 10, 1, 0, 0)), ('Nov1962', datetime.datetime(1962, 11, 1, 0, 0)), ('Dec1962', datetime.datetime(1962, 12, 1, 0, 0)), ('Jan1963', datetime.datetime(1963, 1, 1, 0, 0)), ('Feb1963', datetime.datetime(1963, 2, 1, 0, 0)), ('Mar1963', datetime.datetime(1963, 3, 1, 0, 0)), ('Apr1963', datetime.datetime(1963, 4, 1, 0, 0)), ('May1963', datetime.datetime(1963, 5, 1, 0, 0)), ('Jun1963', datetime.datetime(1963, 6, 1, 0, 0)), ('Jul1963', datetime.datetime(1963, 7, 1, 0, 0)), ('Aug1963', datetime.datetime(1963, 8, 1, 0, 0)), ('Sep1963', datetime.datetime(1963, 9, 1, 0, 0)), ('Oct1963', datetime.datetime(1963, 10, 1, 0, 0)), ('Nov1963', datetime.datetime(1963, 11, 1, 0, 0)), ('Dec1963', datetime.datetime(1963, 12, 1, 0, 0)), ('Jan1964', datetime.datetime(1964, 1, 1, 0, 0)), ('Feb1964', datetime.datetime(1964, 2, 1, 0, 0)), ('Mar1964', datetime.datetime(1964, 3, 1, 0, 0)), ('Apr1964', datetime.datetime(1964, 4, 1, 0, 0)), ('May1964', datetime.datetime(1964, 5, 1, 0, 0)), ('Jun1964', datetime.datetime(1964, 6, 1, 0, 0)), ('Jul1964', datetime.datetime(1964, 7, 1, 0, 0)), ('Aug1964', datetime.datetime(1964, 8, 1, 0, 0)), ('Sep1964', datetime.datetime(1964, 9, 1, 0, 0)), ('Oct1964', datetime.datetime(1964, 10, 1, 0, 0)), ('Nov1964', datetime.datetime(1964, 11, 1, 0, 0)), ('Dec1964', datetime.datetime(1964, 12, 1, 0, 0)), ('Jan1965', datetime.datetime(1965, 1, 1, 0, 0)), ('Feb1965', datetime.datetime(1965, 2, 1, 0, 0)), ('Mar1965', datetime.datetime(1965, 3, 1, 0, 0)), ('Apr1965', datetime.datetime(1965, 4, 1, 0, 0)), ('May1965', datetime.datetime(1965, 5, 1, 0, 0)), ('Jun1965', datetime.datetime(1965, 6, 1, 0, 0)), ('Jul1965', datetime.datetime(1965, 7, 1, 0, 0)), ('Aug1965', datetime.datetime(1965, 8, 1, 0, 0)), ('Sep1965', datetime.datetime(1965, 9, 1, 0, 0)), ('Oct1965', datetime.datetime(1965, 10, 1, 0, 0)), ('Nov1965', datetime.datetime(1965, 11, 1, 0, 0)), ('Dec1965', datetime.datetime(1965, 12, 1, 0, 0)), ('Jan1966', datetime.datetime(1966, 1, 1, 0, 0)), ('Feb1966', datetime.datetime(1966, 2, 1, 0, 0)), ('Mar1966', datetime.datetime(1966, 3, 1, 0, 0)), ('Apr1966', datetime.datetime(1966, 4, 1, 0, 0)), ('May1966', datetime.datetime(1966, 5, 1, 0, 0)), ('Jun1966', datetime.datetime(1966, 6, 1, 0, 0)), ('Jul1966', datetime.datetime(1966, 7, 1, 0, 0)), ('Aug1966', datetime.datetime(1966, 8, 1, 0, 0)), ('Sep1966', datetime.datetime(1966, 9, 1, 0, 0)), ('Oct1966', datetime.datetime(1966, 10, 1, 0, 0)), ('Nov1966', datetime.datetime(1966, 11, 1, 0, 0)), ('Dec1966', datetime.datetime(1966, 12, 1, 0, 0)), ('Jan1967', datetime.datetime(1967, 1, 1, 0, 0)), ('Feb1967', datetime.datetime(1967, 2, 1, 0, 0)), ('Mar1967', datetime.datetime(1967, 3, 1, 0, 0)), ('Apr1967', datetime.datetime(1967, 4, 1, 0, 0)), ('May1967', datetime.datetime(1967, 5, 1, 0, 0)), ('Jun1967', datetime.datetime(1967, 6, 1, 0, 0)), ('Jul1967', datetime.datetime(1967, 7, 1, 0, 0)), ('Aug1967', datetime.datetime(1967, 8, 1, 0, 0)), ('Sep1967', datetime.datetime(1967, 9, 1, 0, 0)), ('Oct1967', datetime.datetime(1967, 10, 1, 0, 0)), ('Nov1967', datetime.datetime(1967, 11, 1, 0, 0)), ('Dec1967', datetime.datetime(1967, 12, 1, 0, 0)), ('Jan1968', datetime.datetime(1968, 1, 1, 0, 0)), ('Feb1968', datetime.datetime(1968, 2, 1, 0, 0)), ('Mar1968', datetime.datetime(1968, 3, 1, 0, 0)), ('Apr1968', datetime.datetime(1968, 4, 1, 0, 0)), ('May1968', datetime.datetime(1968, 5, 1, 0, 0)), ('Jun1968', datetime.datetime(1968, 6, 1, 0, 0)), ('Jul1968', datetime.datetime(1968, 7, 1, 0, 0)), ('Aug1968', datetime.datetime(1968, 8, 1, 0, 0)), ('Sep1968', datetime.datetime(1968, 9, 1, 0, 0)), ('Oct1968', datetime.datetime(1968, 10, 1, 0, 0)), ('Nov1968', datetime.datetime(1968, 11, 1, 0, 0)), ('Dec1968', datetime.datetime(1968, 12, 1, 0, 0)), ('Jan1969', datetime.datetime(1969, 1, 1, 0, 0)), ('Feb1969', datetime.datetime(1969, 2, 1, 0, 0)), ('Mar1969', datetime.datetime(1969, 3, 1, 0, 0)), ('Apr1969', datetime.datetime(1969, 4, 1, 0, 0)), ('May1969', datetime.datetime(1969, 5, 1, 0, 0)), ('Jun1969', datetime.datetime(1969, 6, 1, 0, 0)), ('Jul1969', datetime.datetime(1969, 7, 1, 0, 0)), ('Aug1969', datetime.datetime(1969, 8, 1, 0, 0)), ('Sep1969', datetime.datetime(1969, 9, 1, 0, 0)), ('Oct1969', datetime.datetime(1969, 10, 1, 0, 0)), ('Nov1969', datetime.datetime(1969, 11, 1, 0, 0)), ('Dec1969', datetime.datetime(1969, 12, 1, 0, 0)), ('Jan1970', datetime.datetime(1970, 1, 1, 0, 0)), ('Feb1970', datetime.datetime(1970, 2, 1, 0, 0)), ('Mar1970', datetime.datetime(1970, 3, 1, 0, 0)), ('Apr1970', datetime.datetime(1970, 4, 1, 0, 0)), ('May1970', datetime.datetime(1970, 5, 1, 0, 0)), ('Jun1970', datetime.datetime(1970, 6, 1, 0, 0)), ('Jul1970', datetime.datetime(1970, 7, 1, 0, 0)), ('Aug1970', datetime.datetime(1970, 8, 1, 0, 0)), ('Sep1970', datetime.datetime(1970, 9, 1, 0, 0)), ('Oct1970', datetime.datetime(1970, 10, 1, 0, 0)), ('Nov1970', datetime.datetime(1970, 11, 1, 0, 0)), ('Dec1970', datetime.datetime(1970, 12, 1, 0, 0)), ('Jan1971', datetime.datetime(1971, 1, 1, 0, 0)), ('Feb1971', datetime.datetime(1971, 2, 1, 0, 0)), ('Mar1971', datetime.datetime(1971, 3, 1, 0, 0)), ('Apr1971', datetime.datetime(1971, 4, 1, 0, 0)), ('May1971', datetime.datetime(1971, 5, 1, 0, 0)), ('Jun1971', datetime.datetime(1971, 6, 1, 0, 0)), ('Jul1971', datetime.datetime(1971, 7, 1, 0, 0)), ('Aug1971', datetime.datetime(1971, 8, 1, 0, 0)), ('Sep1971', datetime.datetime(1971, 9, 1, 0, 0)), ('Oct1971', datetime.datetime(1971, 10, 1, 0, 0)), ('Nov1971', datetime.datetime(1971, 11, 1, 0, 0)), ('Dec1971', datetime.datetime(1971, 12, 1, 0, 0)), ('Jan1972', datetime.datetime(1972, 1, 1, 0, 0)), ('Feb1972', datetime.datetime(1972, 2, 1, 0, 0)), ('Mar1972', datetime.datetime(1972, 3, 1, 0, 0)), ('Apr1972', datetime.datetime(1972, 4, 1, 0, 0)), ('May1972', datetime.datetime(1972, 5, 1, 0, 0)), ('Jun1972', datetime.datetime(1972, 6, 1, 0, 0)), ('Jul1972', datetime.datetime(1972, 7, 1, 0, 0)), ('Aug1972', datetime.datetime(1972, 8, 1, 0, 0)), ('Sep1972', datetime.datetime(1972, 9, 1, 0, 0)), ('Oct1972', datetime.datetime(1972, 10, 1, 0, 0)), ('Nov1972', datetime.datetime(1972, 11, 1, 0, 0)), ('Dec1972', datetime.datetime(1972, 12, 1, 0, 0)), ('Jan1973', datetime.datetime(1973, 1, 1, 0, 0)), ('Feb1973', datetime.datetime(1973, 2, 1, 0, 0)), ('Mar1973', datetime.datetime(1973, 3, 1, 0, 0)), ('Apr1973', datetime.datetime(1973, 4, 1, 0, 0)), ('May1973', datetime.datetime(1973, 5, 1, 0, 0)), ('Jun1973', datetime.datetime(1973, 6, 1, 0, 0)), ('Jul1973', datetime.datetime(1973, 7, 1, 0, 0)), ('Aug1973', datetime.datetime(1973, 8, 1, 0, 0)), ('Sep1973', datetime.datetime(1973, 9, 1, 0, 0)), ('Oct1973', datetime.datetime(1973, 10, 1, 0, 0)), ('Nov1973', datetime.datetime(1973, 11, 1, 0, 0)), ('Dec1973', datetime.datetime(1973, 12, 1, 0, 0)), ('Jan1974', datetime.datetime(1974, 1, 1, 0, 0)), ('Feb1974', datetime.datetime(1974, 2, 1, 0, 0)), ('Mar1974', datetime.datetime(1974, 3, 1, 0, 0)), ('Apr1974', datetime.datetime(1974, 4, 1, 0, 0)), ('May1974', datetime.datetime(1974, 5, 1, 0, 0)), ('Jun1974', datetime.datetime(1974, 6, 1, 0, 0)), ('Jul1974', datetime.datetime(1974, 7, 1, 0, 0)), ('Aug1974', datetime.datetime(1974, 8, 1, 0, 0)), ('Sep1974', datetime.datetime(1974, 9, 1, 0, 0)), ('Oct1974', datetime.datetime(1974, 10, 1, 0, 0)), ('Nov1974', datetime.datetime(1974, 11, 1, 0, 0)), ('Dec1974', datetime.datetime(1974, 12, 1, 0, 0)), ('Jan1975', datetime.datetime(1975, 1, 1, 0, 0)), ('Feb1975', datetime.datetime(1975, 2, 1, 0, 0)), ('Mar1975', datetime.datetime(1975, 3, 1, 0, 0)), ('Apr1975', datetime.datetime(1975, 4, 1, 0, 0)), ('May1975', datetime.datetime(1975, 5, 1, 0, 0)), ('Jun1975', datetime.datetime(1975, 6, 1, 0, 0)), ('Jul1975', datetime.datetime(1975, 7, 1, 0, 0)), ('Aug1975', datetime.datetime(1975, 8, 1, 0, 0)), ('Sep1975', datetime.datetime(1975, 9, 1, 0, 0)), ('Oct1975', datetime.datetime(1975, 10, 1, 0, 0)), ('Nov1975', datetime.datetime(1975, 11, 1, 0, 0)), ('Dec1975', datetime.datetime(1975, 12, 1, 0, 0)), ('Jan1976', datetime.datetime(1976, 1, 1, 0, 0)), ('Feb1976', datetime.datetime(1976, 2, 1, 0, 0)), ('Mar1976', datetime.datetime(1976, 3, 1, 0, 0)), ('Apr1976', datetime.datetime(1976, 4, 1, 0, 0)), ('May1976', datetime.datetime(1976, 5, 1, 0, 0)), ('Jun1976', datetime.datetime(1976, 6, 1, 0, 0)), ('Jul1976', datetime.datetime(1976, 7, 1, 0, 0)), ('Aug1976', datetime.datetime(1976, 8, 1, 0, 0)), ('Sep1976', datetime.datetime(1976, 9, 1, 0, 0)), ('Oct1976', datetime.datetime(1976, 10, 1, 0, 0)), ('Nov1976', datetime.datetime(1976, 11, 1, 0, 0)), ('Dec1976', datetime.datetime(1976, 12, 1, 0, 0)), ('Jan1977', datetime.datetime(1977, 1, 1, 0, 0)), ('Feb1977', datetime.datetime(1977, 2, 1, 0, 0)), ('Mar1977', datetime.datetime(1977, 3, 1, 0, 0)), ('Apr1977', datetime.datetime(1977, 4, 1, 0, 0)), ('May1977', datetime.datetime(1977, 5, 1, 0, 0)), ('Jun1977', datetime.datetime(1977, 6, 1, 0, 0)), ('Jul1977', datetime.datetime(1977, 7, 1, 0, 0)), ('Aug1977', datetime.datetime(1977, 8, 1, 0, 0)), ('Sep1977', datetime.datetime(1977, 9, 1, 0, 0)), ('Oct1977', datetime.datetime(1977, 10, 1, 0, 0)), ('Nov1977', datetime.datetime(1977, 11, 1, 0, 0)), ('Dec1977', datetime.datetime(1977, 12, 1, 0, 0)), ('Jan1978', datetime.datetime(1978, 1, 1, 0, 0)), ('Feb1978', datetime.datetime(1978, 2, 1, 0, 0)), ('Mar1978', datetime.datetime(1978, 3, 1, 0, 0)), ('Apr1978', datetime.datetime(1978, 4, 1, 0, 0)), ('May1978', datetime.datetime(1978, 5, 1, 0, 0)), ('Jun1978', datetime.datetime(1978, 6, 1, 0, 0)), ('Jul1978', datetime.datetime(1978, 7, 1, 0, 0)), ('Aug1978', datetime.datetime(1978, 8, 1, 0, 0)), ('Sep1978', datetime.datetime(1978, 9, 1, 0, 0)), ('Oct1978', datetime.datetime(1978, 10, 1, 0, 0)), ('Nov1978', datetime.datetime(1978, 11, 1, 0, 0)), ('Dec1978', datetime.datetime(1978, 12, 1, 0, 0)), ('Jan1979', datetime.datetime(1979, 1, 1, 0, 0)), ('Feb1979', datetime.datetime(1979, 2, 1, 0, 0)), ('Mar1979', datetime.datetime(1979, 3, 1, 0, 0)), ('Apr1979', datetime.datetime(1979, 4, 1, 0, 0)), ('May1979', datetime.datetime(1979, 5, 1, 0, 0)), ('Jun1979', datetime.datetime(1979, 6, 1, 0, 0)), ('Jul1979', datetime.datetime(1979, 7, 1, 0, 0)), ('Aug1979', datetime.datetime(1979, 8, 1, 0, 0)), ('Sep1979', datetime.datetime(1979, 9, 1, 0, 0)), ('Oct1979', datetime.datetime(1979, 10, 1, 0, 0)), ('Nov1979', datetime.datetime(1979, 11, 1, 0, 0)), ('Dec1979', datetime.datetime(1979, 12, 1, 0, 0)), ('Jan1980', datetime.datetime(1980, 1, 1, 0, 0)), ('Feb1980', datetime.datetime(1980, 2, 1, 0, 0)), ('Mar1980', datetime.datetime(1980, 3, 1, 0, 0)), ('Apr1980', datetime.datetime(1980, 4, 1, 0, 0)), ('May1980', datetime.datetime(1980, 5, 1, 0, 0)), ('Jun1980', datetime.datetime(1980, 6, 1, 0, 0)), ('Jul1980', datetime.datetime(1980, 7, 1, 0, 0)), ('Aug1980', datetime.datetime(1980, 8, 1, 0, 0)), ('Sep1980', datetime.datetime(1980, 9, 1, 0, 0)), ('Oct1980', datetime.datetime(1980, 10, 1, 0, 0)), ('Nov1980', datetime.datetime(1980, 11, 1, 0, 0)), ('Dec1980', datetime.datetime(1980, 12, 1, 0, 0)), ('Jan1981', datetime.datetime(1981, 1, 1, 0, 0)), ('Feb1981', datetime.datetime(1981, 2, 1, 0, 0)), ('Mar1981', datetime.datetime(1981, 3, 1, 0, 0)), ('Apr1981', datetime.datetime(1981, 4, 1, 0, 0)), ('May1981', datetime.datetime(1981, 5, 1, 0, 0)), ('Jun1981', datetime.datetime(1981, 6, 1, 0, 0)), ('Jul1981', datetime.datetime(1981, 7, 1, 0, 0)), ('Aug1981', datetime.datetime(1981, 8, 1, 0, 0)), ('Sep1981', datetime.datetime(1981, 9, 1, 0, 0)), ('Oct1981', datetime.datetime(1981, 10, 1, 0, 0)), ('Nov1981', datetime.datetime(1981, 11, 1, 0, 0)), ('Dec1981', datetime.datetime(1981, 12, 1, 0, 0)), ('Jan1982', datetime.datetime(1982, 1, 1, 0, 0)), ('Feb1982', datetime.datetime(1982, 2, 1, 0, 0)), ('Mar1982', datetime.datetime(1982, 3, 1, 0, 0)), ('Apr1982', datetime.datetime(1982, 4, 1, 0, 0)), ('May1982', datetime.datetime(1982, 5, 1, 0, 0)), ('Jun1982', datetime.datetime(1982, 6, 1, 0, 0)), ('Jul1982', datetime.datetime(1982, 7, 1, 0, 0)), ('Aug1982', datetime.datetime(1982, 8, 1, 0, 0)), ('Sep1982', datetime.datetime(1982, 9, 1, 0, 0)), ('Oct1982', datetime.datetime(1982, 10, 1, 0, 0)), ('Nov1982', datetime.datetime(1982, 11, 1, 0, 0)), ('Dec1982', datetime.datetime(1982, 12, 1, 0, 0)), ('Jan1983', datetime.datetime(1983, 1, 1, 0, 0)), ('Feb1983', datetime.datetime(1983, 2, 1, 0, 0)), ('Mar1983', datetime.datetime(1983, 3, 1, 0, 0)), ('Apr1983', datetime.datetime(1983, 4, 1, 0, 0)), ('May1983', datetime.datetime(1983, 5, 1, 0, 0)), ('Jun1983', datetime.datetime(1983, 6, 1, 0, 0)), ('Jul1983', datetime.datetime(1983, 7, 1, 0, 0)), ('Aug1983', datetime.datetime(1983, 8, 1, 0, 0)), ('Sep1983', datetime.datetime(1983, 9, 1, 0, 0)), ('Oct1983', datetime.datetime(1983, 10, 1, 0, 0)), ('Nov1983', datetime.datetime(1983, 11, 1, 0, 0)), ('Dec1983', datetime.datetime(1983, 12, 1, 0, 0)), ('Jan1984', datetime.datetime(1984, 1, 1, 0, 0)), ('Feb1984', datetime.datetime(1984, 2, 1, 0, 0)), ('Mar1984', datetime.datetime(1984, 3, 1, 0, 0)), ('Apr1984', datetime.datetime(1984, 4, 1, 0, 0)), ('May1984', datetime.datetime(1984, 5, 1, 0, 0)), ('Jun1984', datetime.datetime(1984, 6, 1, 0, 0)), ('Jul1984', datetime.datetime(1984, 7, 1, 0, 0)), ('Aug1984', datetime.datetime(1984, 8, 1, 0, 0)), ('Sep1984', datetime.datetime(1984, 9, 1, 0, 0)), ('Oct1984', datetime.datetime(1984, 10, 1, 0, 0)), ('Nov1984', datetime.datetime(1984, 11, 1, 0, 0)), ('Dec1984', datetime.datetime(1984, 12, 1, 0, 0)), ('Jan1985', datetime.datetime(1985, 1, 1, 0, 0)), ('Feb1985', datetime.datetime(1985, 2, 1, 0, 0)), ('Mar1985', datetime.datetime(1985, 3, 1, 0, 0)), ('Apr1985', datetime.datetime(1985, 4, 1, 0, 0)), ('May1985', datetime.datetime(1985, 5, 1, 0, 0)), ('Jun1985', datetime.datetime(1985, 6, 1, 0, 0)), ('Jul1985', datetime.datetime(1985, 7, 1, 0, 0)), ('Aug1985', datetime.datetime(1985, 8, 1, 0, 0)), ('Sep1985', datetime.datetime(1985, 9, 1, 0, 0)), ('Oct1985', datetime.datetime(1985, 10, 1, 0, 0)), ('Nov1985', datetime.datetime(1985, 11, 1, 0, 0)), ('Dec1985', datetime.datetime(1985, 12, 1, 0, 0)), ('Jan1986', datetime.datetime(1986, 1, 1, 0, 0)), ('Feb1986', datetime.datetime(1986, 2, 1, 0, 0)), ('Mar1986', datetime.datetime(1986, 3, 1, 0, 0)), ('Apr1986', datetime.datetime(1986, 4, 1, 0, 0)), ('May1986', datetime.datetime(1986, 5, 1, 0, 0)), ('Jun1986', datetime.datetime(1986, 6, 1, 0, 0)), ('Jul1986', datetime.datetime(1986, 7, 1, 0, 0)), ('Aug1986', datetime.datetime(1986, 8, 1, 0, 0)), ('Sep1986', datetime.datetime(1986, 9, 1, 0, 0)), ('Oct1986', datetime.datetime(1986, 10, 1, 0, 0)), ('Nov1986', datetime.datetime(1986, 11, 1, 0, 0)), ('Dec1986', datetime.datetime(1986, 12, 1, 0, 0)), ('Jan1987', datetime.datetime(1987, 1, 1, 0, 0)), ('Feb1987', datetime.datetime(1987, 2, 1, 0, 0)), ('Mar1987', datetime.datetime(1987, 3, 1, 0, 0)), ('Apr1987', datetime.datetime(1987, 4, 1, 0, 0)), ('May1987', datetime.datetime(1987, 5, 1, 0, 0)), ('Jun1987', datetime.datetime(1987, 6, 1, 0, 0)), ('Jul1987', datetime.datetime(1987, 7, 1, 0, 0)), ('Aug1987', datetime.datetime(1987, 8, 1, 0, 0)), ('Sep1987', datetime.datetime(1987, 9, 1, 0, 0)), ('Oct1987', datetime.datetime(1987, 10, 1, 0, 0)), ('Nov1987', datetime.datetime(1987, 11, 1, 0, 0)), ('Dec1987', datetime.datetime(1987, 12, 1, 0, 0)), ('Jan1988', datetime.datetime(1988, 1, 1, 0, 0)), ('Feb1988', datetime.datetime(1988, 2, 1, 0, 0)), ('Mar1988', datetime.datetime(1988, 3, 1, 0, 0)), ('Apr1988', datetime.datetime(1988, 4, 1, 0, 0)), ('May1988', datetime.datetime(1988, 5, 1, 0, 0)), ('Jun1988', datetime.datetime(1988, 6, 1, 0, 0)), ('Jul1988', datetime.datetime(1988, 7, 1, 0, 0)), ('Aug1988', datetime.datetime(1988, 8, 1, 0, 0)), ('Sep1988', datetime.datetime(1988, 9, 1, 0, 0)), ('Oct1988', datetime.datetime(1988, 10, 1, 0, 0)), ('Nov1988', datetime.datetime(1988, 11, 1, 0, 0)), ('Dec1988', datetime.datetime(1988, 12, 1, 0, 0)), ('Jan1989', datetime.datetime(1989, 1, 1, 0, 0)), ('Feb1989', datetime.datetime(1989, 2, 1, 0, 0)), ('Mar1989', datetime.datetime(1989, 3, 1, 0, 0)), ('Apr1989', datetime.datetime(1989, 4, 1, 0, 0)), ('May1989', datetime.datetime(1989, 5, 1, 0, 0)), ('Jun1989', datetime.datetime(1989, 6, 1, 0, 0)), ('Jul1989', datetime.datetime(1989, 7, 1, 0, 0)), ('Aug1989', datetime.datetime(1989, 8, 1, 0, 0)), ('Sep1989', datetime.datetime(1989, 9, 1, 0, 0)), ('Oct1989', datetime.datetime(1989, 10, 1, 0, 0)), ('Nov1989', datetime.datetime(1989, 11, 1, 0, 0)), ('Dec1989', datetime.datetime(1989, 12, 1, 0, 0)), ('Jan1990', datetime.datetime(1990, 1, 1, 0, 0)), ('Feb1990', datetime.datetime(1990, 2, 1, 0, 0)), ('Mar1990', datetime.datetime(1990, 3, 1, 0, 0)), ('Apr1990', datetime.datetime(1990, 4, 1, 0, 0)), ('May1990', datetime.datetime(1990, 5, 1, 0, 0)), ('Jun1990', datetime.datetime(1990, 6, 1, 0, 0)), ('Jul1990', datetime.datetime(1990, 7, 1, 0, 0)), ('Aug1990', datetime.datetime(1990, 8, 1, 0, 0)), ('Sep1990', datetime.datetime(1990, 9, 1, 0, 0)), ('Oct1990', datetime.datetime(1990, 10, 1, 0, 0)), ('Nov1990', datetime.datetime(1990, 11, 1, 0, 0)), ('Dec1990', datetime.datetime(1990, 12, 1, 0, 0)), ('Jan1991', datetime.datetime(1991, 1, 1, 0, 0)), ('Feb1991', datetime.datetime(1991, 2, 1, 0, 0)), ('Mar1991', datetime.datetime(1991, 3, 1, 0, 0)), ('Apr1991', datetime.datetime(1991, 4, 1, 0, 0)), ('May1991', datetime.datetime(1991, 5, 1, 0, 0)), ('Jun1991', datetime.datetime(1991, 6, 1, 0, 0)), ('Jul1991', datetime.datetime(1991, 7, 1, 0, 0)), ('Aug1991', datetime.datetime(1991, 8, 1, 0, 0)), ('Sep1991', datetime.datetime(1991, 9, 1, 0, 0)), ('Oct1991', datetime.datetime(1991, 10, 1, 0, 0)), ('Nov1991', datetime.datetime(1991, 11, 1, 0, 0)), ('Dec1991', datetime.datetime(1991, 12, 1, 0, 0)), ('Jan1992', datetime.datetime(1992, 1, 1, 0, 0)), ('Feb1992', datetime.datetime(1992, 2, 1, 0, 0)), ('Mar1992', datetime.datetime(1992, 3, 1, 0, 0)), ('Apr1992', datetime.datetime(1992, 4, 1, 0, 0)), ('May1992', datetime.datetime(1992, 5, 1, 0, 0)), ('Jun1992', datetime.datetime(1992, 6, 1, 0, 0)), ('Jul1992', datetime.datetime(1992, 7, 1, 0, 0)), ('Aug1992', datetime.datetime(1992, 8, 1, 0, 0)), ('Sep1992', datetime.datetime(1992, 9, 1, 0, 0)), ('Oct1992', datetime.datetime(1992, 10, 1, 0, 0)), ('Nov1992', datetime.datetime(1992, 11, 1, 0, 0)), ('Dec1992', datetime.datetime(1992, 12, 1, 0, 0)), ('Jan1993', datetime.datetime(1993, 1, 1, 0, 0)), ('Feb1993', datetime.datetime(1993, 2, 1, 0, 0)), ('Mar1993', datetime.datetime(1993, 3, 1, 0, 0)), ('Apr1993', datetime.datetime(1993, 4, 1, 0, 0)), ('May1993', datetime.datetime(1993, 5, 1, 0, 0)), ('Jun1993', datetime.datetime(1993, 6, 1, 0, 0)), ('Jul1993', datetime.datetime(1993, 7, 1, 0, 0)), ('Aug1993', datetime.datetime(1993, 8, 1, 0, 0)), ('Sep1993', datetime.datetime(1993, 9, 1, 0, 0)), ('Oct1993', datetime.datetime(1993, 10, 1, 0, 0)), ('Nov1993', datetime.datetime(1993, 11, 1, 0, 0)), ('Dec1993', datetime.datetime(1993, 12, 1, 0, 0)), ('Jan1994', datetime.datetime(1994, 1, 1, 0, 0)), ('Feb1994', datetime.datetime(1994, 2, 1, 0, 0)), ('Mar1994', datetime.datetime(1994, 3, 1, 0, 0)), ('Apr1994', datetime.datetime(1994, 4, 1, 0, 0)), ('May1994', datetime.datetime(1994, 5, 1, 0, 0)), ('Jun1994', datetime.datetime(1994, 6, 1, 0, 0)), ('Jul1994', datetime.datetime(1994, 7, 1, 0, 0)), ('Aug1994', datetime.datetime(1994, 8, 1, 0, 0)), ('Sep1994', datetime.datetime(1994, 9, 1, 0, 0)), ('Oct1994', datetime.datetime(1994, 10, 1, 0, 0)), ('Nov1994', datetime.datetime(1994, 11, 1, 0, 0)), ('Dec1994', datetime.datetime(1994, 12, 1, 0, 0)), ('Jan1995', datetime.datetime(1995, 1, 1, 0, 0)), ('Feb1995', datetime.datetime(1995, 2, 1, 0, 0)), ('Mar1995', datetime.datetime(1995, 3, 1, 0, 0)), ('Apr1995', datetime.datetime(1995, 4, 1, 0, 0)), ('May1995', datetime.datetime(1995, 5, 1, 0, 0)), ('Jun1995', datetime.datetime(1995, 6, 1, 0, 0)), ('Jul1995', datetime.datetime(1995, 7, 1, 0, 0)), ('Aug1995', datetime.datetime(1995, 8, 1, 0, 0)), ('Sep1995', datetime.datetime(1995, 9, 1, 0, 0)), ('Oct1995', datetime.datetime(1995, 10, 1, 0, 0)), ('Nov1995', datetime.datetime(1995, 11, 1, 0, 0)), ('Dec1995', datetime.datetime(1995, 12, 1, 0, 0)), ('Jan1996', datetime.datetime(1996, 1, 1, 0, 0)), ('Feb1996', datetime.datetime(1996, 2, 1, 0, 0)), ('Mar1996', datetime.datetime(1996, 3, 1, 0, 0)), ('Apr1996', datetime.datetime(1996, 4, 1, 0, 0)), ('May1996', datetime.datetime(1996, 5, 1, 0, 0)), ('Jun1996', datetime.datetime(1996, 6, 1, 0, 0)), ('Jul1996', datetime.datetime(1996, 7, 1, 0, 0)), ('Aug1996', datetime.datetime(1996, 8, 1, 0, 0)), ('Sep1996', datetime.datetime(1996, 9, 1, 0, 0)), ('Oct1996', datetime.datetime(1996, 10, 1, 0, 0)), ('Nov1996', datetime.datetime(1996, 11, 1, 0, 0)), ('Dec1996', datetime.datetime(1996, 12, 1, 0, 0)), ('Jan1997', datetime.datetime(1997, 1, 1, 0, 0)), ('Feb1997', datetime.datetime(1997, 2, 1, 0, 0)), ('Mar1997', datetime.datetime(1997, 3, 1, 0, 0)), ('Apr1997', datetime.datetime(1997, 4, 1, 0, 0)), ('May1997', datetime.datetime(1997, 5, 1, 0, 0)), ('Jun1997', datetime.datetime(1997, 6, 1, 0, 0)), ('Jul1997', datetime.datetime(1997, 7, 1, 0, 0)), ('Aug1997', datetime.datetime(1997, 8, 1, 0, 0)), ('Sep1997', datetime.datetime(1997, 9, 1, 0, 0)), ('Oct1997', datetime.datetime(1997, 10, 1, 0, 0)), ('Nov1997', datetime.datetime(1997, 11, 1, 0, 0)), ('Dec1997', datetime.datetime(1997, 12, 1, 0, 0)), ('Jan1998', datetime.datetime(1998, 1, 1, 0, 0)), ('Feb1998', datetime.datetime(1998, 2, 1, 0, 0)), ('Mar1998', datetime.datetime(1998, 3, 1, 0, 0)), ('Apr1998', datetime.datetime(1998, 4, 1, 0, 0)), ('May1998', datetime.datetime(1998, 5, 1, 0, 0)), ('Jun1998', datetime.datetime(1998, 6, 1, 0, 0)), ('Jul1998', datetime.datetime(1998, 7, 1, 0, 0)), ('Aug1998', datetime.datetime(1998, 8, 1, 0, 0)), ('Sep1998', datetime.datetime(1998, 9, 1, 0, 0)), ('Oct1998', datetime.datetime(1998, 10, 1, 0, 0)), ('Nov1998', datetime.datetime(1998, 11, 1, 0, 0)), ('Dec1998', datetime.datetime(1998, 12, 1, 0, 0)), ('Jan1999', datetime.datetime(1999, 1, 1, 0, 0)), ('Feb1999', datetime.datetime(1999, 2, 1, 0, 0)), ('Mar1999', datetime.datetime(1999, 3, 1, 0, 0)), ('Apr1999', datetime.datetime(1999, 4, 1, 0, 0)), ('May1999', datetime.datetime(1999, 5, 1, 0, 0)), ('Jun1999', datetime.datetime(1999, 6, 1, 0, 0)), ('Jul1999', datetime.datetime(1999, 7, 1, 0, 0)), ('Aug1999', datetime.datetime(1999, 8, 1, 0, 0)), ('Sep1999', datetime.datetime(1999, 9, 1, 0, 0)), ('Oct1999', datetime.datetime(1999, 10, 1, 0, 0)), ('Nov1999', datetime.datetime(1999, 11, 1, 0, 0)), ('Dec1999', datetime.datetime(1999, 12, 1, 0, 0)), ('Jan2000', datetime.datetime(2000, 1, 1, 0, 0)), ('Feb2000', datetime.datetime(2000, 2, 1, 0, 0)), ('Mar2000', datetime.datetime(2000, 3, 1, 0, 0)), ('Apr2000', datetime.datetime(2000, 4, 1, 0, 0)), ('May2000', datetime.datetime(2000, 5, 1, 0, 0)), ('Jun2000', datetime.datetime(2000, 6, 1, 0, 0)), ('Jul2000', datetime.datetime(2000, 7, 1, 0, 0)), ('Aug2000', datetime.datetime(2000, 8, 1, 0, 0)), ('Sep2000', datetime.datetime(2000, 9, 1, 0, 0)), ('Oct2000', datetime.datetime(2000, 10, 1, 0, 0)), ('Nov2000', datetime.datetime(2000, 11, 1, 0, 0)), ('Dec2000', datetime.datetime(2000, 12, 1, 0, 0)), ('Jan2001', datetime.datetime(2001, 1, 1, 0, 0)), ('Feb2001', datetime.datetime(2001, 2, 1, 0, 0)), ('Mar2001', datetime.datetime(2001, 3, 1, 0, 0)), ('Apr2001', datetime.datetime(2001, 4, 1, 0, 0)), ('May2001', datetime.datetime(2001, 5, 1, 0, 0)), ('Jun2001', datetime.datetime(2001, 6, 1, 0, 0)), ('Jul2001', datetime.datetime(2001, 7, 1, 0, 0)), ('Aug2001', datetime.datetime(2001, 8, 1, 0, 0)), ('Sep2001', datetime.datetime(2001, 9, 1, 0, 0)), ('Oct2001', datetime.datetime(2001, 10, 1, 0, 0)), ('Nov2001', datetime.datetime(2001, 11, 1, 0, 0)), ('Dec2001', datetime.datetime(2001, 12, 1, 0, 0)), ('Jan2002', datetime.datetime(2002, 1, 1, 0, 0)), ('Feb2002', datetime.datetime(2002, 2, 1, 0, 0)), ('Mar2002', datetime.datetime(2002, 3, 1, 0, 0)), ('Apr2002', datetime.datetime(2002, 4, 1, 0, 0)), ('May2002', datetime.datetime(2002, 5, 1, 0, 0)), ('Jun2002', datetime.datetime(2002, 6, 1, 0, 0)), ('Jul2002', datetime.datetime(2002, 7, 1, 0, 0)), ('Aug2002', datetime.datetime(2002, 8, 1, 0, 0)), ('Sep2002', datetime.datetime(2002, 9, 1, 0, 0)), ('Oct2002', datetime.datetime(2002, 10, 1, 0, 0)), ('Nov2002', datetime.datetime(2002, 11, 1, 0, 0)), ('Dec2002', datetime.datetime(2002, 12, 1, 0, 0)), ('Jan2003', datetime.datetime(2003, 1, 1, 0, 0)), ('Feb2003', datetime.datetime(2003, 2, 1, 0, 0)), ('Mar2003', datetime.datetime(2003, 3, 1, 0, 0)), ('Apr2003', datetime.datetime(2003, 4, 1, 0, 0)), ('May2003', datetime.datetime(2003, 5, 1, 0, 0)), ('Jun2003', datetime.datetime(2003, 6, 1, 0, 0)), ('Jul2003', datetime.datetime(2003, 7, 1, 0, 0)), ('Aug2003', datetime.datetime(2003, 8, 1, 0, 0)), ('Sep2003', datetime.datetime(2003, 9, 1, 0, 0)), ('Oct2003', datetime.datetime(2003, 10, 1, 0, 0)), ('Nov2003', datetime.datetime(2003, 11, 1, 0, 0)), ('Dec2003', datetime.datetime(2003, 12, 1, 0, 0)), ('Jan2004', datetime.datetime(2004, 1, 1, 0, 0)), ('Feb2004', datetime.datetime(2004, 2, 1, 0, 0)), ('Mar2004', datetime.datetime(2004, 3, 1, 0, 0)), ('Apr2004', datetime.datetime(2004, 4, 1, 0, 0)), ('May2004', datetime.datetime(2004, 5, 1, 0, 0)), ('Jun2004', datetime.datetime(2004, 6, 1, 0, 0)), ('Jul2004', datetime.datetime(2004, 7, 1, 0, 0)), ('Aug2004', datetime.datetime(2004, 8, 1, 0, 0)), ('Sep2004', datetime.datetime(2004, 9, 1, 0, 0)), ('Oct2004', datetime.datetime(2004, 10, 1, 0, 0)), ('Nov2004', datetime.datetime(2004, 11, 1, 0, 0)), ('Dec2004', datetime.datetime(2004, 12, 1, 0, 0)), ('Jan2005', datetime.datetime(2005, 1, 1, 0, 0)), ('Feb2005', datetime.datetime(2005, 2, 1, 0, 0)), ('Mar2005', datetime.datetime(2005, 3, 1, 0, 0)), ('Apr2005', datetime.datetime(2005, 4, 1, 0, 0)), ('May2005', datetime.datetime(2005, 5, 1, 0, 0)), ('Jun2005', datetime.datetime(2005, 6, 1, 0, 0)), ('Jul2005', datetime.datetime(2005, 7, 1, 0, 0)), ('Aug2005', datetime.datetime(2005, 8, 1, 0, 0)), ('Sep2005', datetime.datetime(2005, 9, 1, 0, 0)), ('Oct2005', datetime.datetime(2005, 10, 1, 0, 0)), ('Nov2005', datetime.datetime(2005, 11, 1, 0, 0)), ('Dec2005', datetime.datetime(2005, 12, 1, 0, 0)), ('Jan2006', datetime.datetime(2006, 1, 1, 0, 0)), ('Feb2006', datetime.datetime(2006, 2, 1, 0, 0)), ('Mar2006', datetime.datetime(2006, 3, 1, 0, 0)), ('Apr2006', datetime.datetime(2006, 4, 1, 0, 0)), ('May2006', datetime.datetime(2006, 5, 1, 0, 0)), ('Jun2006', datetime.datetime(2006, 6, 1, 0, 0)), ('Jul2006', datetime.datetime(2006, 7, 1, 0, 0)), ('Aug2006', datetime.datetime(2006, 8, 1, 0, 0)), ('Sep2006', datetime.datetime(2006, 9, 1, 0, 0)), ('Oct2006', datetime.datetime(2006, 10, 1, 0, 0)), ('Nov2006', datetime.datetime(2006, 11, 1, 0, 0)), ('Dec2006', datetime.datetime(2006, 12, 1, 0, 0)), ('Jan2007', datetime.datetime(2007, 1, 1, 0, 0)), ('Feb2007', datetime.datetime(2007, 2, 1, 0, 0)), ('Mar2007', datetime.datetime(2007, 3, 1, 0, 0)), ('Apr2007', datetime.datetime(2007, 4, 1, 0, 0)), ('May2007', datetime.datetime(2007, 5, 1, 0, 0)), ('Jun2007', datetime.datetime(2007, 6, 1, 0, 0)), ('Jul2007', datetime.datetime(2007, 7, 1, 0, 0)), ('Aug2007', datetime.datetime(2007, 8, 1, 0, 0)), ('Sep2007', datetime.datetime(2007, 9, 1, 0, 0)), ('Oct2007', datetime.datetime(2007, 10, 1, 0, 0)), ('Nov2007', datetime.datetime(2007, 11, 1, 0, 0)), ('Dec2007', datetime.datetime(2007, 12, 1, 0, 0)), ('Jan2008', datetime.datetime(2008, 1, 1, 0, 0)), ('Feb2008', datetime.datetime(2008, 2, 1, 0, 0)), ('Mar2008', datetime.datetime(2008, 3, 1, 0, 0)), ('Apr2008', datetime.datetime(2008, 4, 1, 0, 0)), ('May2008', datetime.datetime(2008, 5, 1, 0, 0)), ('Jun2008', datetime.datetime(2008, 6, 1, 0, 0)), ('Jul2008', datetime.datetime(2008, 7, 1, 0, 0)), ('Aug2008', datetime.datetime(2008, 8, 1, 0, 0)), ('Sep2008', datetime.datetime(2008, 9, 1, 0, 0)), ('Oct2008', datetime.datetime(2008, 10, 1, 0, 0)), ('Nov2008', datetime.datetime(2008, 11, 1, 0, 0)), ('Dec2008', datetime.datetime(2008, 12, 1, 0, 0)), ('Jan2009', datetime.datetime(2009, 1, 1, 0, 0)), ('Feb2009', datetime.datetime(2009, 2, 1, 0, 0)), ('Mar2009', datetime.datetime(2009, 3, 1, 0, 0)), ('Apr2009', datetime.datetime(2009, 4, 1, 0, 0)), ('May2009', datetime.datetime(2009, 5, 1, 0, 0)), ('Jun2009', datetime.datetime(2009, 6, 1, 0, 0)), ('Jul2009', datetime.datetime(2009, 7, 1, 0, 0)), ('Aug2009', datetime.datetime(2009, 8, 1, 0, 0)), ('Sep2009', datetime.datetime(2009, 9, 1, 0, 0)), ('Oct2009', datetime.datetime(2009, 10, 1, 0, 0)), ('Nov2009', datetime.datetime(2009, 11, 1, 0, 0)), ('Dec2009', datetime.datetime(2009, 12, 1, 0, 0)), ('Jan2010', datetime.datetime(2010, 1, 1, 0, 0)), ('Feb2010', datetime.datetime(2010, 2, 1, 0, 0)), ('Mar2010', datetime.datetime(2010, 3, 1, 0, 0)), ('Apr2010', datetime.datetime(2010, 4, 1, 0, 0)), ('May2010', datetime.datetime(2010, 5, 1, 0, 0)), ('Jun2010', datetime.datetime(2010, 6, 1, 0, 0)), ('Jul2010', datetime.datetime(2010, 7, 1, 0, 0)), ('Aug2010', datetime.datetime(2010, 8, 1, 0, 0)), ('Sep2010', datetime.datetime(2010, 9, 1, 0, 0)), ('Oct2010', datetime.datetime(2010, 10, 1, 0, 0)), ('Nov2010', datetime.datetime(2010, 11, 1, 0, 0)), ('Dec2010', datetime.datetime(2010, 12, 1, 0, 0)), ('Jan2011', datetime.datetime(2011, 1, 1, 0, 0)), ('Feb2011', datetime.datetime(2011, 2, 1, 0, 0)), ('Mar2011', datetime.datetime(2011, 3, 1, 0, 0)), ('Apr2011', datetime.datetime(2011, 4, 1, 0, 0)), ('May2011', datetime.datetime(2011, 5, 1, 0, 0)), ('Jun2011', datetime.datetime(2011, 6, 1, 0, 0)), ('Jul2011', datetime.datetime(2011, 7, 1, 0, 0)), ('Aug2011', datetime.datetime(2011, 8, 1, 0, 0)), ('Sep2011', datetime.datetime(2011, 9, 1, 0, 0)), ('Oct2011', datetime.datetime(2011, 10, 1, 0, 0)), ('Nov2011', datetime.datetime(2011, 11, 1, 0, 0)), ('Dec2011', datetime.datetime(2011, 12, 1, 0, 0)), ('Jan2012', datetime.datetime(2012, 1, 1, 0, 0)), ('Feb2012', datetime.datetime(2012, 2, 1, 0, 0)), ('Mar2012', datetime.datetime(2012, 3, 1, 0, 0)), ('Apr2012', datetime.datetime(2012, 4, 1, 0, 0)), ('May2012', datetime.datetime(2012, 5, 1, 0, 0)), ('Jun2012', datetime.datetime(2012, 6, 1, 0, 0)), ('Jul2012', datetime.datetime(2012, 7, 1, 0, 0)), ('Aug2012', datetime.datetime(2012, 8, 1, 0, 0)), ('Sep2012', datetime.datetime(2012, 9, 1, 0, 0)), ('Oct2012', datetime.datetime(2012, 10, 1, 0, 0)), ('Nov2012', datetime.datetime(2012, 11, 1, 0, 0)), ('Dec2012', datetime.datetime(2012, 12, 1, 0, 0)), ('Jan2013', datetime.datetime(2013, 1, 1, 0, 0)), ('Feb2013', datetime.datetime(2013, 2, 1, 0, 0)), ('Mar2013', datetime.datetime(2013, 3, 1, 0, 0)), ('Apr2013', datetime.datetime(2013, 4, 1, 0, 0)), ('May2013', datetime.datetime(2013, 5, 1, 0, 0)), ('Jun2013', datetime.datetime(2013, 6, 1, 0, 0)), ('Jul2013', datetime.datetime(2013, 7, 1, 0, 0)), ('Aug2013', datetime.datetime(2013, 8, 1, 0, 0)), ('Sep2013', datetime.datetime(2013, 9, 1, 0, 0)), ('Oct2013', datetime.datetime(2013, 10, 1, 0, 0)), ('Nov2013', datetime.datetime(2013, 11, 1, 0, 0)), ('Dec2013', datetime.datetime(2013, 12, 1, 0, 0)), ('Jan2014', datetime.datetime(2014, 1, 1, 0, 0)), ('Feb2014', datetime.datetime(2014, 2, 1, 0, 0)), ('Mar2014', datetime.datetime(2014, 3, 1, 0, 0)), ('Apr2014', datetime.datetime(2014, 4, 1, 0, 0)), ('May2014', datetime.datetime(2014, 5, 1, 0, 0)), ('Jun2014', datetime.datetime(2014, 6, 1, 0, 0)), ('Jul2014', datetime.datetime(2014, 7, 1, 0, 0)), ('Aug2014', datetime.datetime(2014, 8, 1, 0, 0)), ('Sep2014', datetime.datetime(2014, 9, 1, 0, 0)), ('Oct2014', datetime.datetime(2014, 10, 1, 0, 0)), ('Nov2014', datetime.datetime(2014, 11, 1, 0, 0)), ('Dec2014', datetime.datetime(2014, 12, 1, 0, 0)), ('Jan2015', datetime.datetime(2015, 1, 1, 0, 0)), ('Feb2015', datetime.datetime(2015, 2, 1, 0, 0)), ('Mar2015', datetime.datetime(2015, 3, 1, 0, 0)), ('Apr2015', datetime.datetime(2015, 4, 1, 0, 0)), ('May2015', datetime.datetime(2015, 5, 1, 0, 0)), ('Jun2015', datetime.datetime(2015, 6, 1, 0, 0)), ('Jul2015', datetime.datetime(2015, 7, 1, 0, 0)), ('Aug2015', datetime.datetime(2015, 8, 1, 0, 0)), ('Sep2015', datetime.datetime(2015, 9, 1, 0, 0)), ('Oct2015', datetime.datetime(2015, 10, 1, 0, 0)), ('Nov2015', datetime.datetime(2015, 11, 1, 0, 0)), ('Dec2015', datetime.datetime(2015, 12, 1, 0, 0)), ('Jan2016', datetime.datetime(2016, 1, 1, 0, 0)), ('Feb2016', datetime.datetime(2016, 2, 1, 0, 0)), ('Mar2016', datetime.datetime(2016, 3, 1, 0, 0)), ('Apr2016', datetime.datetime(2016, 4, 1, 0, 0)), ('May2016', datetime.datetime(2016, 5, 1, 0, 0)), ('Jun2016', datetime.datetime(2016, 6, 1, 0, 0)), ('Jul2016', datetime.datetime(2016, 7, 1, 0, 0)), ('Aug2016', datetime.datetime(2016, 8, 1, 0, 0)), ('Sep2016', datetime.datetime(2016, 9, 1, 0, 0)), ('Oct2016', datetime.datetime(2016, 10, 1, 0, 0)), ('Nov2016', datetime.datetime(2016, 11, 1, 0, 0)), ('Dec2016', datetime.datetime(2016, 12, 1, 0, 0)), ('Jan2017', datetime.datetime(2017, 1, 1, 0, 0)), ('Feb2017', datetime.datetime(2017, 2, 1, 0, 0)), ('Mar2017', datetime.datetime(2017, 3, 1, 0, 0)), ('Apr2017', datetime.datetime(2017, 4, 1, 0, 0)), ('May2017', datetime.datetime(2017, 5, 1, 0, 0)), ('Jun2017', datetime.datetime(2017, 6, 1, 0, 0)), ('Jul2017', datetime.datetime(2017, 7, 1, 0, 0)), ('Aug2017', datetime.datetime(2017, 8, 1, 0, 0)), ('Sep2017', datetime.datetime(2017, 9, 1, 0, 0)), ('Oct2017', datetime.datetime(2017, 10, 1, 0, 0)), ('Nov2017', datetime.datetime(2017, 11, 1, 0, 0)), ('Dec2017', datetime.datetime(2017, 12, 1, 0, 0))), value=(datetime.datetime(1900, 1, 1, 0, 0), datetime.datetime(2017, 12, 1, 0, 0)))), layout=Layout(border='solid 1px')), VBox(children=(Button(button_style='primary', description='Update the graph', style=ButtonStyle()),), layout=Layout(align_items='center', border='solid 1px', display='flex', flex_flow='column', width='100%')), VBox(children=(Output(),), layout=Layout(border='solid 1px', width='100%'))), layout=Layout(border='solid 1px'))"
      ]
     },
     "metadata": {},
     "output_type": "display_data"
    },
    {
     "name": "stdout",
     "output_type": "stream",
     "text": [
      "1 100\n"
     ]
    },
    {
     "ename": "NameError",
     "evalue": "name 'stat_dict' is not defined",
     "output_type": "error",
     "traceback": [
      "\u001b[0;31m---------------------------------------------------------------------------\u001b[0m",
      "\u001b[0;31mNameError\u001b[0m                                 Traceback (most recent call last)",
      "\u001b[0;32m<ipython-input-36-0e3d33a76ace>\u001b[0m in \u001b[0;36mon_button_clicked\u001b[0;34m(b)\u001b[0m\n\u001b[1;32m    334\u001b[0m         \u001b[0;32mif\u001b[0m \u001b[0mc\u001b[0m\u001b[0;34m.\u001b[0m\u001b[0mvalue\u001b[0m\u001b[0;34m:\u001b[0m\u001b[0;34m\u001b[0m\u001b[0m\n\u001b[1;32m    335\u001b[0m             \u001b[0mgroup\u001b[0m \u001b[0;34m=\u001b[0m \u001b[0mc\u001b[0m\u001b[0;34m.\u001b[0m\u001b[0mdescription\u001b[0m\u001b[0;34m\u001b[0m\u001b[0m\n\u001b[0;32m--> 336\u001b[0;31m             \u001b[0moutput_label_list\u001b[0m\u001b[0;34m.\u001b[0m\u001b[0mappend\u001b[0m\u001b[0;34m(\u001b[0m\u001b[0;34m\"There are %d entities for %s group in %s.\"\u001b[0m\u001b[0;34m%\u001b[0m\u001b[0;34m(\u001b[0m\u001b[0mstat_dict\u001b[0m\u001b[0;34m[\u001b[0m\u001b[0mgroup\u001b[0m\u001b[0;34m]\u001b[0m\u001b[0;34m,\u001b[0m\u001b[0mgroup\u001b[0m\u001b[0;34m,\u001b[0m\u001b[0mdomain\u001b[0m\u001b[0;34m)\u001b[0m\u001b[0;34m)\u001b[0m\u001b[0;34m\u001b[0m\u001b[0m\n\u001b[0m\u001b[1;32m    337\u001b[0m \u001b[0;34m\u001b[0m\u001b[0m\n\u001b[1;32m    338\u001b[0m             \u001b[0;31m# area filter\u001b[0m\u001b[0;34m\u001b[0m\u001b[0;34m\u001b[0m\u001b[0m\n",
      "\u001b[0;31mNameError\u001b[0m: name 'stat_dict' is not defined"
     ]
    }
   ],
   "source": [
    "# design the panel: map panel and side panel\n",
    "# for map panel:\n",
    "#     map\n",
    "#\n",
    "# for side panel:\n",
    "#     sentiment container: tell user the color to indicate negative and positive\n",
    "#         title label\n",
    "#         negative label\n",
    "#         positive label\n",
    "#     lexicon container: Which lexicon you want to choose? (OL, MPQA, LIWC)\n",
    "#         title label\n",
    "#         radio_button\n",
    "#     group container: Which group you want to show? (People, Events, Others)\n",
    "#         title label\n",
    "#         checkboxes container:\n",
    "#             checkbox\n",
    "#             checkbox\n",
    "#             checkbox\n",
    "#     area filter: Do you want to filter out the continent or country for entities?\n",
    "#         title label\n",
    "#         dropdown_continent\n",
    "#         dropdown_country\n",
    "#     time filter: Do you want to filter out time range?\n",
    "#         title label\n",
    "#         slider\n",
    "#     button to update\n",
    "\n",
    "\n",
    "# change label to HTML (for set style more flexible)\n",
    "    \n",
    "# set a general style and layout    \n",
    "score_description_style = {'description_width':'50px'}\n",
    "with_border_layout = Layout(border='solid 1px')\n",
    "sp_items_layout = Layout(flex='1 1 auto',\n",
    "                         width='auto',\n",
    "                         border='solid 1px',)\n",
    "\n",
    "\n",
    "# container for all\n",
    "all_container = widgets.VBox(layout=with_border_layout)\n",
    "\n",
    "\n",
    "# preparing a container for side panel\n",
    "sp_container = widgets.VBox(layout=Layout(\n",
    "    display='flex',\n",
    "    flex_flow='column',\n",
    "    align_items='stretch',\n",
    "    border='solid 1px',\n",
    "    width='30%'\n",
    ")\n",
    ")\n",
    "\n",
    "\n",
    "# for sentiment lexicon\n",
    "# lexicon container for lexicons\n",
    "lexicon_container = widgets.VBox(layout=sp_items_layout)\n",
    "# add title\n",
    "html_lexicon = widgets.HTML(value=\"<b>Sentiment lexicon</b>\")\n",
    "#label_lexicon = widgets.Label(value=\"sentiment lexicon\")\n",
    "# preparing a container to put in radio buttons\n",
    "radio_button_lexicon = widgets.RadioButtons(\n",
    "    options=['OL', 'MPQA', 'LIWC','ANEW'],\n",
    "    #description='sentiment lexicon',\n",
    "    #style=style,\n",
    "    disabled=False\n",
    ")\n",
    "# put text and button into lexicon container\n",
    "lexicon_container.children = [html_lexicon,radio_button_lexicon]\n",
    "\n",
    "\n",
    "# for domain\n",
    "domain_container = widgets.VBox(layout=sp_items_layout)\n",
    "# add title\n",
    "html_domain = widgets.HTML(value=\"<b>Domain</b>\")\n",
    "# preparing a container to put in radio buttons\n",
    "radio_button_domain = widgets.RadioButtons(\n",
    "    options=['Articles', 'Talks'],\n",
    "    disabled=False\n",
    ")\n",
    "# put text and button into domain container\n",
    "domain_container.children = [html_domain,radio_button_domain]\n",
    "\n",
    "\n",
    "# for target group\n",
    "# container for groups\n",
    "group_container = widgets.VBox(layout=sp_items_layout)\n",
    "html_group = widgets.HTML(value=\"<b>Target group</b>\")\n",
    "# checkboxes container\n",
    "cb_container = widgets.VBox(layout=Layout(\n",
    ")) \n",
    "# preparing a container to put in created checkbox\n",
    "checkboxes = []  \n",
    "# create checkbox\n",
    "checkboxes.append(widgets.Checkbox(description = 'People', value=False))\n",
    "checkboxes.append(widgets.Checkbox(description = 'Events', value=False))\n",
    "checkbox_others = widgets.Checkbox(description = 'Others', value=False)\n",
    "checkboxes.append(checkbox_others)\n",
    "# put check box into checkboxes container\n",
    "cb_container.children=[i for i in checkboxes]\n",
    "group_container.children=[html_group,cb_container]\n",
    "\n",
    "\n",
    "# for description: how to indicate positive and negative\n",
    "# container for sentiment description\n",
    "sentiment_container = widgets.VBox()\n",
    "html_sentiment = widgets.HTML(value=\" <b>Sentiment representation: </b>red for negative, blue for positive.\")\n",
    "#text_neg_sentiment = widgets.Label(value=\"--red for negative\")\n",
    "#text_pos_sentiment = widgets.Label(value=\"--blue for positive\")\n",
    "#text_sentiment = widgets.Label(value=\"red for negative, blue for positive\")\n",
    "sentiment_container.children=[html_sentiment]\n",
    "\n",
    "\n",
    "# for area filter\n",
    "#container for area\n",
    "area_container = widgets.VBox(layout=sp_items_layout)\n",
    "html_area = widgets.HTML(value=\"<b>Target area</b>\")\n",
    "#dropdown_container = widgets.HBox()\n",
    "#dropdown\n",
    "dropdown_continent = widgets.Dropdown(\n",
    "    options = continent_list,\n",
    "    value = 'all',\n",
    "    description='continent:',\n",
    "    layout=Layout(width='250px'),\n",
    "    disabled=False,\n",
    ")\n",
    "    \n",
    "dropdown_country = widgets.Dropdown(\n",
    "    #options = country_list,\n",
    "    description='country:',\n",
    "    #options = [\"all\"],\n",
    "    #value='all',\n",
    "    layout=Layout(width='250px'),\n",
    "    \n",
    "    disabled = False,\n",
    ")\n",
    "\n",
    "def transform(case):\n",
    "    return continent_country_dict[case]\n",
    "\n",
    "directional_link((dropdown_continent,'value'),(dropdown_country,'options'),transform)\n",
    "\n",
    "\n",
    "#l = traitlets.link((dropdown_continent,'value'),(dropdown_country,'value'))\n",
    "#dropdown_container.children = [dropdown_continent,dropdown_country]\n",
    "area_container.children=[html_area,dropdown_continent,dropdown_country]\n",
    "\n",
    "\n",
    "# for length\n",
    "length_container = widgets.VBox(layout = sp_items_layout)\n",
    "length_checkbox = widgets.Checkbox(description = 'minimum length setting', value=False)\n",
    "length_dropdown = widgets.Dropdown(options=[5,10,20,30],\n",
    "                                   description='minimum length',\n",
    "                                   layout=Layout(width='250px'),\n",
    "                                   disabled = True,)\n",
    "length_container.children = [length_checkbox,length_dropdown]\n",
    "\n",
    "\n",
    "\n",
    "# container for slider\n",
    "slider_container = widgets.VBox(layout=with_border_layout)\n",
    "# add a time slider: SelectionRangeSlider\n",
    "slider_dates = [day for day in rrule.rrule(rrule.MONTHLY, dtstart=date(1900,1,1), until=date(2017,12,31))]#date.today()\n",
    "options = [(i.strftime('%b%Y'),i) for i in slider_dates]\n",
    "#slider = widgets.SelectionRangeSlider\n",
    "slider = ipywidgets.SelectionRangeSlider(\n",
    "    options=options,\n",
    "    index=(0,len(slider_dates)-1),\n",
    "    description='          ',\n",
    "    layout=Layout(width='900px',height='40px'),\n",
    "    #,description_width='200px'\n",
    "    description_width='20px',\n",
    "    #style = style,\n",
    "    disabled=True\n",
    ")\n",
    "html_slider = widgets.HTML(value=\"<b>Time range</b>\")\n",
    "checkbox_slider = widgets.Checkbox(\n",
    "    layout=Layout(width='800px'),\n",
    "    description = 'Do not filter out date (if you tick it or select \"Others\" in \"Target group\", the time range will be ignored)', value=False)\n",
    "slider_container.children=[html_slider,checkbox_slider,slider]\n",
    "#print (slider.value[0].date())\n",
    "\n",
    "\n",
    "\n",
    "# add a link between others and sliders\n",
    "def transform_others_slider(case):\n",
    "    return {True:True,False:False}[case]\n",
    "\n",
    "directional_link((checkbox_others,'value'),(slider,'disabled'),transform_others_slider)\n",
    "\n",
    "# add a link from others to check_slider\n",
    "def transform_others_check_slider(case):\n",
    "    return {True:True,False:False}[case]\n",
    "\n",
    "directional_link((checkbox_others,'value'),(checkbox_slider,'disabled'),transform_others_check_slider)\n",
    "\n",
    "# add a link between checkbox_slider and sliders (directly disabled slider)\n",
    "def transform_check_slider(case):\n",
    "    return {True:True,False:False}[case]\n",
    "\n",
    "directional_link((checkbox_slider,'value'),(slider,'disabled'),transform_check_slider)\n",
    "\n",
    "\n",
    "# for score range\n",
    "# container for score \n",
    "score_container = widgets.VBox(layout=sp_items_layout)\n",
    "# add a score slider: IntRangeSlider\n",
    "slider_score = widgets.IntRangeSlider(value=[1,100],\n",
    "                                      min=0,\n",
    "                                      max=100,\n",
    "                                      step=1,\n",
    "                                      disabled=False,\n",
    "                                      continuous_update=False,\n",
    "                                      orientation='horizontal',\n",
    "                                      readout=True,\n",
    "                                      layout=Layout(width='273px'),\n",
    "                                      readout_format='d',\n",
    "                                      description='total',\n",
    "                                      style=score_description_style,)\n",
    "slider_score_positive = widgets.IntRangeSlider(value=[1,100],\n",
    "                                      min=0,\n",
    "                                      max=100,\n",
    "                                      step=1,\n",
    "                                      disabled=False,\n",
    "                                      continuous_update=False,\n",
    "                                      orientation='horizontal',\n",
    "                                      readout=True,\n",
    "                                      layout=Layout(width='273px'),\n",
    "                                      readout_format='d',\n",
    "                                      description='positive',\n",
    "                                      style=score_description_style,)\n",
    "\n",
    "slider_score_negative = widgets.IntRangeSlider(value=[1,100],\n",
    "                                      min=0,\n",
    "                                      max=100,\n",
    "                                      step=1,\n",
    "                                      disabled=False,\n",
    "                                      continuous_update=False,\n",
    "                                      orientation='horizontal',\n",
    "                                      readout=True,\n",
    "                                      layout=Layout(width='273px'),\n",
    "                                      readout_format='d',\n",
    "                                      description='negative',\n",
    "                                      style=score_description_style,)\n",
    "\n",
    "\n",
    "#html_score = widgets.HTML(value=\"<b>Score range</b><br>score=positive score + negative score<br>default range is 1 to 500.<br>\")\n",
    "# for labels\n",
    "html_score = widgets.HTML(value=\"<b>Score range</b>\")  \n",
    "html_score_total = widgets.HTML(value=\"total score\") \n",
    "html_score_positive = widgets.HTML(value=\"positive score\") \n",
    "html_score_negative = widgets.HTML(value=\"negative score\") \n",
    "\n",
    "#score_container.children=[html_score,html_score_total,slider_score,html_score_positive,slider_score_positive,html_score_negative,slider_score_negative]\n",
    "score_container.children=[html_score,slider_score,slider_score_positive,slider_score_negative]\n",
    "#print (slider.value[0].date())\n",
    "\n",
    "\n",
    "\n",
    "# use an area for text output\n",
    "output_text_container = widgets.VBox(layout=Layout(width='100%',border='solid 1px'))\n",
    "output_label_str_container = widgets.VBox(layout=Layout(width='100%'))\n",
    "output_label = widgets.Label(value=\"Here is the summary...\",\n",
    "                               layout=Layout(width='100%'),\n",
    "                              disabled=False)\n",
    "text_out = widgets.Output()\n",
    "with text_out:\n",
    "    display(output_label_str_container)\n",
    "\n",
    "\n",
    "output_label_str_container.children=[output_label]\n",
    "output_text_container.children = [text_out]\n",
    "\n",
    "\n",
    "#for button\n",
    "update_container = widgets.VBox(layout=Layout(display='flex',\n",
    "                                              flex_flow='column',\n",
    "                                              align_items='center',\n",
    "                                              width='100%',\n",
    "                                              border='solid 1px'))\n",
    "#add button that updates the graph based on the checkboxes\n",
    "button = widgets.Button(description=\"Update the graph\", button_style='primary')\n",
    "update_container.children=[button]\n",
    "\n",
    "\n",
    "sp_container.children=[lexicon_container, domain_container, group_container,score_container, area_container,length_container]\n",
    "\n",
    "\n",
    "# for map\n",
    "map_container = widgets.VBox(layout=Layout(width='80%',height='100%',border='solid 1px'))\n",
    "# preparing the plot \n",
    "myMap = folium.Map(location=[45.5236, -122.6750], zoom_start=1)\n",
    "map_out = widgets.Output()\n",
    "with map_out:\n",
    "    display(myMap)\n",
    "map_container.children = [map_out,sentiment_container]\n",
    "\n",
    "\n",
    "\n",
    "    \n",
    "# container for upper part:map container + side panel\n",
    "upper_container = widgets.HBox(layout=with_border_layout\n",
    ")\n",
    "upper_container.children=[map_container,sp_container]\n",
    "\n",
    "\n",
    "# container for all\n",
    "#all_container = widgets.VBox(layout=with_border_layout)\n",
    "all_container.children = [upper_container,slider_container,update_container,output_text_container]\n",
    "display(all_container)\n",
    "\n",
    "def on_button_clicked(b): \n",
    "#   # create a new map\n",
    "    myMap = folium.Map(location=[45.5236, -122.6750], zoom_start=1)\n",
    "    # create a new output container\n",
    "    output_label_str_container = widgets.VBox(layout=Layout(width='100%',border='solid 1px'))\n",
    "    # get continent and country info\n",
    "    continent = dropdown_continent.value\n",
    "    country = dropdown_country.value\n",
    "    # get score range info\n",
    "    score_start, score_end = slider_score.value\n",
    "    score_start_positive, score_end_positive = slider_score_positive.value\n",
    "    score_start_negative, score_end_negative = slider_score_negative.value\n",
    "    print (score_start,score_end)\n",
    "    #time_start, time_end = slider.value\n",
    "    # get domain: Articles or Talks\n",
    "    domain = radio_button_domain.value\n",
    "    # get lexicon name: OL, MPQA, LIWC, ANEW\n",
    "    lexicon = radio_button_lexicon.value\n",
    "    \n",
    "    output_label_list = []\n",
    "    counter_showed = 0\n",
    "    for c in cb_container.children:\n",
    "        # deal with one target group\n",
    "        if c.value:\n",
    "            group = c.description\n",
    "            output_label_list.append(\"There are %d entities for %s group in %s.\"%(stat_dict[group],group,domain))\n",
    "\n",
    "            # area filter\n",
    "            target_data = None\n",
    "            if not node_continent == \"all\":\n",
    "                if not node_country == \"all\":\n",
    "                    target_data = df[domain][group][df[domain][group]['country']==country]\n",
    "                else:\n",
    "                    # set continent but not country\n",
    "                    target_data = df[domain][group][df[domain][group]['continent']==continent]\n",
    "            else:\n",
    "                # include all continent\n",
    "                target_data = df[domain][group]\n",
    "            output_label_list.append(\"After filtering with geolocation, we got %d entities left\"%(len(target_data)))\n",
    "            \n",
    "            \n",
    "            # here we add doc length filter\n",
    "            if length_checkbox == True:\n",
    "                length_temp = len(target_data)\n",
    "                target_data = target_data[target_data['length']>=length_dropdown.value]\n",
    "                output_label_list.append(\"%d entities are excluded because their doc lengths are too short.\"%(length_temp-len(target_data)))\n",
    "                \n",
    "            # here we do time filtering\n",
    "            if checkbox_slider.value == True:\n",
    "                # time start ,time end = slider.value\n",
    "                xaxis_value = [day for day in rrule.rrule(rrule.DAILY,dtstart=slider.value[0],until=slider.value[1])]\n",
    "                target_data = target_data[target_data['datetime_date'].isin(xaxis_value)]\n",
    "            output_label_list.append(\"After filtering with time, %d entities left.\"%(len(target_data)))\n",
    "            \n",
    "            # here we do score filtering\n",
    "            counter_0 = len(target_data)\n",
    "            target_data = target_data[target_data['pos_score_'+lexicon]>=score_start_positive]\n",
    "            counter_1 = len(target_data)\n",
    "            counter_less_pos = counter_0 - counter_1\n",
    "            target_data = target_data[target_data['pos_score_'+lexicon]<=score_end_positive]\n",
    "            counter_2 = len(target_data)\n",
    "            counter_larger_pos = counter_1-counter_2\n",
    "            target_data = target_data[target_data['neg_score_'+lexicon]>=score_start_negative]\n",
    "            counter_3 = len(target_data)\n",
    "            counter_less_neg = counter_2 - counter_3\n",
    "            target_data = target_data[target_data['neg_score_'+lexicon]<=score_end_negative]\n",
    "            counter_4 = len(target_data)\n",
    "            counter_larger_neg = counter_3 - counter_4\n",
    "            # add total score\n",
    "            target_data = target_data.assign(total=target_data['pos_score_'+lexicon]+target_data['neg_score_'+lexicon])\n",
    "            # filtering total score\n",
    "            target_data = target_data[target_data['total']>=score_start]\n",
    "            counter_5 = len(target_data)\n",
    "            counter_less_total = counter_4 - counter_5\n",
    "            target_data = target_data[target_data['total']<=score_end]\n",
    "            counter_6 = len(target_data)\n",
    "            counter_larger_total = counter_5 - counter_6\n",
    "            output_label_list.append(\"---After filtering with score, there are %d entities left.\"%(len(target_data)))\n",
    "            output_label_list.append(\"------for total score: %d entities have a too high score, %d entities have a too low score.\"%(counter_larger_total,counter_less_total))\n",
    "            output_label_list.append(\"------for positive score: %d entities have a too high score, %d entities have a too low score.\"%(counter_larger_pos,counter_less_pos))\n",
    "            output_label_list.append(\"------for negative score: %d entities have a too high score, %d entities have a too low score.\"%(counter_larger_neg,counter_less_neg))\n",
    "            counter_showed += len(target_data)\n",
    "            \n",
    "\n",
    "            for each in target_data.iterrows():              \n",
    "                node_color = '#{:02x}00{:02x}'.format(int(255 * each[1]['neg_score_'+lexicon]/each[1]['total']),int(255 * each[1]['neg_score_'+lexicon]/each[1]['total']))\n",
    "\n",
    "                popup = folium.Popup(title+\". pos score:\"+str(each[1]['pos_score_'+lexicon])+\", neg score:\"+str(each[1]['neg_score_'+lexicon]),parse_html=True)\n",
    "                #print (node_color)\n",
    "\n",
    "                node_lon,node_lat = each[1]['geometry'][7:-1].split(\" \")\n",
    "                #print (title)\n",
    "                #print (float(node_lat),float(node_lon))\n",
    "\n",
    "                folium.CircleMarker([float(node_lat),float(node_lon)],\n",
    "                                radius= total_score,\n",
    "                                #radius = 5,     \n",
    "                                popup=popup,\n",
    "                                fill = True,\n",
    "                                color=node_color,\n",
    "                                weight = 1,\n",
    "                                fill_color=node_color,\n",
    "                                ).add_to(myMap)\n",
    "  \n",
    "    with map_out:\n",
    "        clear_output(wait=True)\n",
    "        display(myMap)\n",
    "    \n",
    "    output_label_list.append(\"Totally %d entities are displayed in map.\"%(counter_showed))\n",
    "    output_labels = [widgets.HTML(value=i) for i in output_label_list]\n",
    "    output_label_str_container.children = [i for i in output_labels]\n",
    "    with text_out:\n",
    "        clear_output(wait=True)\n",
    "        display(output_label_str_container)\n",
    "    print (\"finish\")\n",
    "\n",
    "button.on_click(on_button_clicked)  \n",
    "\n",
    "\n",
    "\n",
    "\n"
   ]
  },
  {
   "cell_type": "code",
   "execution_count": null,
   "metadata": {
    "collapsed": true
   },
   "outputs": [],
   "source": []
  }
 ],
 "metadata": {
  "celltoolbar": "Slideshow",
  "kernelspec": {
   "display_name": "Python 3",
   "language": "python",
   "name": "python3"
  },
  "language_info": {
   "codemirror_mode": {
    "name": "ipython",
    "version": 3
   },
   "file_extension": ".py",
   "mimetype": "text/x-python",
   "name": "python",
   "nbconvert_exporter": "python",
   "pygments_lexer": "ipython3",
   "version": "3.6.5"
  },
  "widgets": {
   "state": {
    "caf822bc3c2147688d6ef330a42f1ab6": {
     "views": [
      {
       "cell_index": 31
      }
     ]
    },
    "df64d52b55f04b549289ed9ca503a715": {
     "views": [
      {
       "cell_index": 31
      }
     ]
    }
   },
   "version": "1.2.0"
  }
 },
 "nbformat": 4,
 "nbformat_minor": 2
}
